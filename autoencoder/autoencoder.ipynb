{
 "cells": [
  {
   "cell_type": "markdown",
   "source": [
    "## Autoencoder(Combined with CNN?)"
   ],
   "metadata": {
    "collapsed": false,
    "pycharm": {
     "name": "#%% md\n"
    }
   }
  },
  {
   "cell_type": "code",
   "execution_count": 1,
   "outputs": [],
   "source": [
    "import manga109api\n",
    "from tensorflow.keras import layers\n",
    "from tensorflow.keras.models import Model\n",
    "import tensorflow as tf\n",
    "import numpy as np\n",
    "import matplotlib.pyplot as plt\n",
    "import skimage\n",
    "%matplotlib inline"
   ],
   "metadata": {
    "collapsed": false,
    "pycharm": {
     "name": "#%%\n"
    }
   }
  },
  {
   "cell_type": "code",
   "execution_count": 2,
   "outputs": [],
   "source": [
    "manga109_root = \"../datasets/Manga109/Manga109_released_2021_12_30\"\n",
    "dataset = manga109api.Parser(manga109_root)"
   ],
   "metadata": {
    "collapsed": false,
    "pycharm": {
     "name": "#%%\n"
    }
   }
  },
  {
   "cell_type": "code",
   "execution_count": 3,
   "outputs": [],
   "source": [
    "def data(is_train = True):\n",
    "    count = -1\n",
    "    for book in dataset.books:\n",
    "        for page in dataset.get_annotation(book)[\"page\"]:\n",
    "            count += 1\n",
    "            if count % 5 == 0 and is_train: continue\n",
    "            if count % 5 != 0 and (not is_train): continue\n",
    "            image = tf.convert_to_tensor(skimage.io.imread(\"../datasets/Manga109/Manga109_released_2021_12_30/padded_text_stripped_images/\" + book + \"/%03d.jpg\" % (page[\"@index\"]))[np.newaxis])\n",
    "            yield image, image"
   ],
   "metadata": {
    "collapsed": false,
    "pycharm": {
     "name": "#%%\n"
    }
   }
  },
  {
   "cell_type": "code",
   "execution_count": 4,
   "outputs": [],
   "source": [
    "train_data = tf.data.Dataset.from_generator(data,\n",
    "                               output_signature=(\n",
    "                                   tf.TensorSpec(shape=(None,2048,2048,3)),\n",
    "                                   tf.TensorSpec(shape=(None,2048,2048,3))\n",
    "                               ))\n",
    "test_data = tf.data.Dataset.from_generator(lambda: data(False),\n",
    "                               output_signature=(\n",
    "                                   tf.TensorSpec(shape=(None,2048,2048,3)),\n",
    "                                   tf.TensorSpec(shape=(None,2048,2048,3))\n",
    "                               ))"
   ],
   "metadata": {
    "collapsed": false,
    "pycharm": {
     "name": "#%%\n"
    }
   }
  },
  {
   "cell_type": "code",
   "execution_count": 5,
   "outputs": [],
   "source": [
    "_input = layers.Input(shape=(2048, 2048, 3))\n",
    "\n",
    "# Encoder\n",
    "x = layers.Conv2D(32, (3, 3), activation=\"relu\", padding=\"same\")(_input)\n",
    "x = layers.MaxPooling2D((2, 2), padding=\"same\")(x)\n",
    "for i in range(6):\n",
    "    x = layers.Conv2D(32, (3, 3), activation=\"relu\", padding=\"same\")(x)\n",
    "    x = layers.MaxPooling2D((2, 2), padding=\"same\")(x)\n",
    "encoded = layers.Flatten()(x)\n",
    "\n",
    "# Decoder\n",
    "x = layers.Reshape((16, 16, 32))(encoded)\n",
    "for i in range(7):\n",
    "    x = layers.Conv2DTranspose(32, (3, 3), strides=2, activation=\"relu\", padding=\"same\")(x)\n",
    "decoded = layers.Conv2D(3, (3, 3), activation=\"sigmoid\", padding=\"same\")(x)\n",
    "\n",
    "# Autoencoder\n",
    "autoencoder = Model(_input, decoded)\n",
    "autoencoder.compile(optimizer=\"adam\", loss=\"mean_squared_error\")\n",
    "encoder = Model(_input, encoded)\n",
    "decoder = Model(encoded, decoded)"
   ],
   "metadata": {
    "collapsed": false,
    "pycharm": {
     "name": "#%%\n"
    }
   }
  },
  {
   "cell_type": "code",
   "execution_count": null,
   "outputs": [
    {
     "name": "stdout",
     "output_type": "stream",
     "text": [
      "Epoch 1/10\n",
      "    885/Unknown - 643s 704ms/step - loss: 21984.5566"
     ]
    }
   ],
   "source": [
    "autoencoder.fit(\n",
    "    x=train_data,\n",
    "    epochs=10,\n",
    "    shuffle=True,\n",
    "    validation_data=test_data\n",
    ")"
   ],
   "metadata": {
    "collapsed": false,
    "pycharm": {
     "name": "#%%\n",
     "is_executing": true
    }
   }
  },
  {
   "cell_type": "code",
   "execution_count": null,
   "outputs": [],
   "source": [
    "autoencoder.save(\"model/autoencoder.h5\")\n",
    "encoder.save(\"model/encoder.h5\")\n",
    "decoder.save(\"model/decoder.h5\")"
   ],
   "metadata": {
    "collapsed": false,
    "pycharm": {
     "name": "#%%\n"
    }
   }
  },
  {
   "cell_type": "markdown",
   "source": [
    "## References"
   ],
   "metadata": {
    "collapsed": false
   }
  },
  {
   "cell_type": "markdown",
   "source": [
    "[https://keras.io/examples/vision/autoencoder/](https://keras.io/examples/vision/autoencoder/)"
   ],
   "metadata": {
    "collapsed": false,
    "pycharm": {
     "name": "#%% md\n"
    }
   }
  }
 ],
 "metadata": {
  "kernelspec": {
   "display_name": "Python 3",
   "language": "python",
   "name": "python3"
  },
  "language_info": {
   "codemirror_mode": {
    "name": "ipython",
    "version": 2
   },
   "file_extension": ".py",
   "mimetype": "text/x-python",
   "name": "python",
   "nbconvert_exporter": "python",
   "pygments_lexer": "ipython2",
   "version": "2.7.6"
  }
 },
 "nbformat": 4,
 "nbformat_minor": 0
}