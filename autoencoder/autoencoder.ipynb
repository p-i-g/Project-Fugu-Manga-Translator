{
 "cells": [
  {
   "cell_type": "markdown",
   "source": [
    "## Convolutional Autoencoder"
   ],
   "metadata": {
    "collapsed": false,
    "pycharm": {
     "name": "#%% md\n"
    }
   }
  },
  {
   "cell_type": "code",
   "execution_count": 1,
   "outputs": [],
   "source": [
    "import manga109api\n",
    "from tensorflow.keras import layers\n",
    "import tensorflow as tf\n",
    "import numpy as np\n",
    "import matplotlib.pyplot as plt\n",
    "import random\n",
    "import skimage\n",
    "%matplotlib inline"
   ],
   "metadata": {
    "collapsed": false,
    "pycharm": {
     "name": "#%%\n"
    }
   }
  },
  {
   "cell_type": "code",
   "execution_count": 2,
   "outputs": [],
   "source": [
    "manga109_root = \"../datasets/Manga109/Manga109_released_2021_12_30\"\n",
    "dataset = manga109api.Parser(manga109_root)"
   ],
   "metadata": {
    "collapsed": false,
    "pycharm": {
     "name": "#%%\n"
    }
   }
  },
  {
   "cell_type": "code",
   "execution_count": 3,
   "outputs": [],
   "source": [
    "def data(is_train = True):\n",
    "    \"\"\"define a generator as input to training to not overload the RAM\"\"\"\n",
    "    # set seed so that the size of training/testing set doesn't vary\n",
    "    random.seed(175069818)\n",
    "    for book in dataset.books:\n",
    "        for page in dataset.get_annotation(book)[\"page\"]:\n",
    "            num = random.randint(0, 19)\n",
    "            if num % 20 == 0 and is_train: continue\n",
    "            if num % 20 != 0 and (not is_train): continue\n",
    "            image = tf.convert_to_tensor((skimage.io.imread(\"../datasets/Manga109/Manga109_released_2021_12_30/scaled_text_stripped_images/\" + book + \"/%03d.jpg\" % (page[\"@index\"])))/255)\n",
    "            yield image, image"
   ],
   "metadata": {
    "collapsed": false,
    "pycharm": {
     "name": "#%%\n"
    }
   }
  },
  {
   "cell_type": "code",
   "execution_count": 4,
   "outputs": [],
   "source": [
    "\"\"\"covert generator to tensorflow dataset\"\"\"\n",
    "train_data = tf.data.Dataset.from_generator(data,\n",
    "                               output_signature=(\n",
    "                                   tf.TensorSpec(shape=(512,512,3)),\n",
    "                                   tf.TensorSpec(shape=(512,512,3))\n",
    "                               )).batch(batch_size=15)\n",
    "test_data = tf.data.Dataset.from_generator(lambda: data(False),\n",
    "                               output_signature=(\n",
    "                                   tf.TensorSpec(shape=(512,512,3)),\n",
    "                                   tf.TensorSpec(shape=(512,512,3))\n",
    "                               )).batch(batch_size=15)"
   ],
   "metadata": {
    "collapsed": false,
    "pycharm": {
     "name": "#%%\n"
    }
   }
  },
  {
   "cell_type": "code",
   "execution_count": 5,
   "outputs": [],
   "source": [
    "\"\"\"create autoencoder neural network\"\"\"\n",
    "class Autoencoder(tf.keras.Model):\n",
    "    def __init__(self):\n",
    "        super(Autoencoder, self).__init__()\n",
    "        self.encoder = tf.keras.Sequential()\n",
    "        self.decoder = tf.keras.Sequential()\n",
    "        for i in range(3):\n",
    "            self.encoder.add(layers.Conv2D(32, (3, 3), padding=\"same\"))\n",
    "            self.encoder.add(layers.LeakyReLU(0.1))\n",
    "            self.encoder.add(layers.MaxPooling2D((2, 2), padding=\"same\"))\n",
    "            self.decoder.add(layers.Conv2DTranspose(32, (3, 3), strides=2, padding=\"same\"))\n",
    "            self.decoder.add(layers.LeakyReLU(0.1))\n",
    "        self.decoder.add(layers.Conv2D(3, (3, 3), activation=\"sigmoid\", padding=\"same\"))\n",
    "    def call(self, _input):\n",
    "        encoded = self.encoder(_input)\n",
    "        decoded = self.decoder(encoded)\n",
    "        return decoded"
   ],
   "metadata": {
    "collapsed": false,
    "pycharm": {
     "name": "#%%\n"
    }
   }
  },
  {
   "cell_type": "code",
   "execution_count": null,
   "outputs": [],
   "source": [
    "autoencoder = Autoencoder()\n",
    "autoencoder.compile(optimizer=\"adam\", loss=\"mean_squared_error\")"
   ],
   "metadata": {
    "collapsed": false,
    "pycharm": {
     "name": "#%%\n"
    }
   }
  },
  {
   "cell_type": "code",
   "execution_count": 6,
   "outputs": [
    {
     "name": "stdout",
     "output_type": "stream",
     "text": [
      "Epoch 1/2\n",
      "672/672 [==============================] - 537s 792ms/step - loss: 0.0334 - val_loss: 0.0219\n",
      "Epoch 2/2\n",
      "672/672 [==============================] - 504s 750ms/step - loss: 0.0200 - val_loss: 0.0191\n"
     ]
    },
    {
     "data": {
      "text/plain": "<keras.callbacks.History at 0x2d725f7e850>"
     },
     "execution_count": 6,
     "metadata": {},
     "output_type": "execute_result"
    }
   ],
   "source": [
    "# train the autoencoder\n",
    "autoencoder.fit(\n",
    "    x=train_data,\n",
    "    epochs=2,\n",
    "    validation_data=test_data\n",
    ")"
   ],
   "metadata": {
    "collapsed": false,
    "pycharm": {
     "name": "#%%\n"
    }
   }
  },
  {
   "cell_type": "code",
   "execution_count": 9,
   "outputs": [
    {
     "name": "stdout",
     "output_type": "stream",
     "text": [
      "672/672 [==============================] - 521s 768ms/step - loss: 0.0181 - val_loss: 0.0173\n"
     ]
    },
    {
     "data": {
      "text/plain": "<keras.callbacks.History at 0x245927fce50>"
     },
     "execution_count": 9,
     "metadata": {},
     "output_type": "execute_result"
    }
   ],
   "source": [
    "autoencoder.fit(\n",
    "    x=train_data,\n",
    "    epochs=1,\n",
    "    validation_data=test_data\n",
    ")"
   ],
   "metadata": {
    "collapsed": false,
    "pycharm": {
     "name": "#%%\n"
    }
   }
  },
  {
   "cell_type": "code",
   "execution_count": 10,
   "outputs": [
    {
     "name": "stdout",
     "output_type": "stream",
     "text": [
      "672/672 [==============================] - 508s 756ms/step - loss: 0.0160 - val_loss: 0.0158\n"
     ]
    },
    {
     "data": {
      "text/plain": "<keras.callbacks.History at 0x2459274d700>"
     },
     "execution_count": 10,
     "metadata": {},
     "output_type": "execute_result"
    }
   ],
   "source": [
    "autoencoder.fit(\n",
    "    x=train_data,\n",
    "    epochs=1,\n",
    "    validation_data=test_data\n",
    ")"
   ],
   "metadata": {
    "collapsed": false,
    "pycharm": {
     "name": "#%%\n"
    }
   }
  },
  {
   "cell_type": "code",
   "execution_count": 12,
   "outputs": [
    {
     "name": "stdout",
     "output_type": "stream",
     "text": [
      "672/672 [==============================] - 501s 746ms/step - loss: 0.0150 - val_loss: 0.0150\n"
     ]
    },
    {
     "data": {
      "text/plain": "<keras.callbacks.History at 0x245ff386a60>"
     },
     "execution_count": 12,
     "metadata": {},
     "output_type": "execute_result"
    }
   ],
   "source": [
    "autoencoder.fit(\n",
    "    x=train_data,\n",
    "    epochs=1,\n",
    "    validation_data=test_data\n",
    ")"
   ],
   "metadata": {
    "collapsed": false,
    "pycharm": {
     "name": "#%%\n"
    }
   }
  },
  {
   "cell_type": "code",
   "execution_count": 13,
   "outputs": [
    {
     "name": "stdout",
     "output_type": "stream",
     "text": [
      "INFO:tensorflow:Assets written to: model/autoencoder\\assets\n"
     ]
    }
   ],
   "source": [
    "autoencoder.save(\"model/autoencoder\")"
   ],
   "metadata": {
    "collapsed": false,
    "pycharm": {
     "name": "#%%\n"
    }
   }
  },
  {
   "cell_type": "code",
   "execution_count": 6,
   "outputs": [],
   "source": [
    "autoencoder = tf.keras.models.load_model(\"model/autoencoder\", custom_objects = {\"Autoencoder\": Autoencoder})"
   ],
   "metadata": {
    "collapsed": false,
    "pycharm": {
     "name": "#%%\n"
    }
   }
  },
  {
   "cell_type": "code",
   "execution_count": 17,
   "outputs": [
    {
     "data": {
      "text/plain": "(2, 64, 64, 32)"
     },
     "execution_count": 17,
     "metadata": {},
     "output_type": "execute_result"
    }
   ],
   "source": [
    "book = \"ARMS\"\n",
    "page = {}\n",
    "page[\"@index\"] = 4\n",
    "predicted = autoencoder.encoder.predict(tf.convert_to_tensor([skimage.io.imread(\"../datasets/Manga109/Manga109_released_2021_12_30/scaled_text_stripped_images/\" + book + \"/%03d.jpg\" % (page[\"@index\"]))/255, skimage.io.imread(\"../datasets/Manga109/Manga109_released_2021_12_30/scaled_text_stripped_images/\" + book + \"/%03d.jpg\" % (5))/255]))\n",
    "predicted.shape"
   ],
   "metadata": {
    "collapsed": false,
    "pycharm": {
     "name": "#%%\n"
    }
   }
  },
  {
   "cell_type": "markdown",
   "source": [
    "## References"
   ],
   "metadata": {
    "collapsed": false
   }
  },
  {
   "cell_type": "markdown",
   "source": [
    "[https://keras.io/examples/vision/autoencoder/](https://keras.io/examples/vision/autoencoder/)"
   ],
   "metadata": {
    "collapsed": false,
    "pycharm": {
     "name": "#%% md\n"
    }
   }
  }
 ],
 "metadata": {
  "kernelspec": {
   "display_name": "Python 3",
   "language": "python",
   "name": "python3"
  },
  "language_info": {
   "codemirror_mode": {
    "name": "ipython",
    "version": 2
   },
   "file_extension": ".py",
   "mimetype": "text/x-python",
   "name": "python",
   "nbconvert_exporter": "python",
   "pygments_lexer": "ipython2",
   "version": "2.7.6"
  }
 },
 "nbformat": 4,
 "nbformat_minor": 0
}