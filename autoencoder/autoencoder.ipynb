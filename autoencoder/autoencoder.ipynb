{
 "cells": [
  {
   "cell_type": "markdown",
   "source": [
    "## Autoencoder(Combined with CNN?)"
   ],
   "metadata": {
    "collapsed": false,
    "pycharm": {
     "name": "#%% md\n"
    }
   }
  },
  {
   "cell_type": "code",
   "execution_count": 1,
   "outputs": [],
   "source": [
    "import manga109api\n",
    "from tensorflow.keras import layers\n",
    "import tensorflow as tf\n",
    "import numpy as np\n",
    "import matplotlib.pyplot as plt\n",
    "import random\n",
    "import skimage\n",
    "%matplotlib inline"
   ],
   "metadata": {
    "collapsed": false,
    "pycharm": {
     "name": "#%%\n"
    }
   }
  },
  {
   "cell_type": "code",
   "execution_count": 2,
   "outputs": [],
   "source": [
    "manga109_root = \"../datasets/Manga109/Manga109_released_2021_12_30\"\n",
    "dataset = manga109api.Parser(manga109_root)"
   ],
   "metadata": {
    "collapsed": false,
    "pycharm": {
     "name": "#%%\n"
    }
   }
  },
  {
   "cell_type": "code",
   "execution_count": 3,
   "outputs": [],
   "source": [
    "def data(is_train = True):\n",
    "    \"\"\"define a generator as input to training to not overload the RAM\"\"\"\n",
    "    # set seed so that the size of training/testing set doesn't vary\n",
    "    random.seed(175069818)\n",
    "    for book in dataset.books:\n",
    "        for page in dataset.get_annotation(book)[\"page\"]:\n",
    "            num = random.randint(0, 19)\n",
    "            if num % 20 == 0 and is_train: continue\n",
    "            if num % 20 != 0 and (not is_train): continue\n",
    "            image = tf.convert_to_tensor((skimage.io.imread(\"../datasets/Manga109/Manga109_released_2021_12_30/scaled_text_stripped_images/\" + book + \"/%03d.jpg\" % (page[\"@index\"])))/255)\n",
    "            yield image, image"
   ],
   "metadata": {
    "collapsed": false,
    "pycharm": {
     "name": "#%%\n"
    }
   }
  },
  {
   "cell_type": "code",
   "execution_count": 4,
   "outputs": [],
   "source": [
    "\"\"\"covert generator to tensorflow dataset\"\"\"\n",
    "train_data = tf.data.Dataset.from_generator(data,\n",
    "                               output_signature=(\n",
    "                                   tf.TensorSpec(shape=(512,512,3)),\n",
    "                                   tf.TensorSpec(shape=(512,512,3))\n",
    "                               )).batch(batch_size=20)\n",
    "test_data = tf.data.Dataset.from_generator(lambda: data(False),\n",
    "                               output_signature=(\n",
    "                                   tf.TensorSpec(shape=(512,512,3)),\n",
    "                                   tf.TensorSpec(shape=(512,512,3))\n",
    "                               )).batch(batch_size=20)"
   ],
   "metadata": {
    "collapsed": false,
    "pycharm": {
     "name": "#%%\n"
    }
   }
  },
  {
   "cell_type": "code",
   "execution_count": 5,
   "outputs": [],
   "source": [
    "\"\"\"create autoencoder neural network\"\"\"\n",
    "class Autoencoder(tf.keras.Model):\n",
    "    def __init__(self):\n",
    "        super(Autoencoder, self).__init__()\n",
    "        self.encoder = tf.keras.Sequential()\n",
    "        self.decoder = tf.keras.Sequential()\n",
    "        for i in range(3):\n",
    "            self.encoder.add(layers.Conv2D(32, (3, 3), activation=\"relu\", padding=\"same\"))\n",
    "            self.encoder.add(layers.MaxPooling2D((2, 2), padding=\"same\"))\n",
    "            self.decoder.add(layers.Conv2DTranspose(32, (3, 3), strides=2, activation=\"relu\", padding=\"same\"))\n",
    "        self.decoder.add(layers.Conv2D(3, (3, 3), activation=\"sigmoid\", padding=\"same\"))\n",
    "    def call(self, _input):\n",
    "        encoded = self.encoder(_input)\n",
    "        decoded = self.decoder(encoded)\n",
    "        return decoded\n",
    "\n",
    "autoencoder = Autoencoder()\n",
    "autoencoder.compile(optimizer=\"adam\", loss=\"mean_squared_error\")"
   ],
   "metadata": {
    "collapsed": false,
    "pycharm": {
     "name": "#%%\n"
    }
   }
  },
  {
   "cell_type": "code",
   "execution_count": 6,
   "outputs": [
    {
     "name": "stdout",
     "output_type": "stream",
     "text": [
      "Epoch 1/2\n",
      "    122/Unknown - 141s 1s/step - loss: 0.1274"
     ]
    },
    {
     "ename": "ResourceExhaustedError",
     "evalue": "Graph execution error:\n\nDetected at node 'gradient_tape/autoencoder/sequential_1/conv2d_transpose_2/conv2d_transpose/Conv2D' defined at (most recent call last):\n    File \"C:\\Users\\olive\\anaconda3\\envs\\Project-Fugu-Manga-Translator\\lib\\runpy.py\", line 194, in _run_module_as_main\n      return _run_code(code, main_globals, None,\n    File \"C:\\Users\\olive\\anaconda3\\envs\\Project-Fugu-Manga-Translator\\lib\\runpy.py\", line 87, in _run_code\n      exec(code, run_globals)\n    File \"C:\\Users\\olive\\anaconda3\\envs\\Project-Fugu-Manga-Translator\\lib\\site-packages\\ipykernel_launcher.py\", line 16, in <module>\n      app.launch_new_instance()\n    File \"C:\\Users\\olive\\anaconda3\\envs\\Project-Fugu-Manga-Translator\\lib\\site-packages\\traitlets\\config\\application.py\", line 846, in launch_instance\n      app.start()\n    File \"C:\\Users\\olive\\anaconda3\\envs\\Project-Fugu-Manga-Translator\\lib\\site-packages\\ipykernel\\kernelapp.py\", line 677, in start\n      self.io_loop.start()\n    File \"C:\\Users\\olive\\anaconda3\\envs\\Project-Fugu-Manga-Translator\\lib\\site-packages\\tornado\\platform\\asyncio.py\", line 199, in start\n      self.asyncio_loop.run_forever()\n    File \"C:\\Users\\olive\\anaconda3\\envs\\Project-Fugu-Manga-Translator\\lib\\asyncio\\base_events.py\", line 570, in run_forever\n      self._run_once()\n    File \"C:\\Users\\olive\\anaconda3\\envs\\Project-Fugu-Manga-Translator\\lib\\asyncio\\base_events.py\", line 1859, in _run_once\n      handle._run()\n    File \"C:\\Users\\olive\\anaconda3\\envs\\Project-Fugu-Manga-Translator\\lib\\asyncio\\events.py\", line 81, in _run\n      self._context.run(self._callback, *self._args)\n    File \"C:\\Users\\olive\\anaconda3\\envs\\Project-Fugu-Manga-Translator\\lib\\site-packages\\ipykernel\\kernelbase.py\", line 457, in dispatch_queue\n      await self.process_one()\n    File \"C:\\Users\\olive\\anaconda3\\envs\\Project-Fugu-Manga-Translator\\lib\\site-packages\\ipykernel\\kernelbase.py\", line 446, in process_one\n      await dispatch(*args)\n    File \"C:\\Users\\olive\\anaconda3\\envs\\Project-Fugu-Manga-Translator\\lib\\site-packages\\ipykernel\\kernelbase.py\", line 353, in dispatch_shell\n      await result\n    File \"C:\\Users\\olive\\anaconda3\\envs\\Project-Fugu-Manga-Translator\\lib\\site-packages\\ipykernel\\kernelbase.py\", line 648, in execute_request\n      reply_content = await reply_content\n    File \"C:\\Users\\olive\\anaconda3\\envs\\Project-Fugu-Manga-Translator\\lib\\site-packages\\ipykernel\\ipkernel.py\", line 353, in do_execute\n      res = shell.run_cell(code, store_history=store_history, silent=silent)\n    File \"C:\\Users\\olive\\anaconda3\\envs\\Project-Fugu-Manga-Translator\\lib\\site-packages\\ipykernel\\zmqshell.py\", line 533, in run_cell\n      return super(ZMQInteractiveShell, self).run_cell(*args, **kwargs)\n    File \"C:\\Users\\olive\\anaconda3\\envs\\Project-Fugu-Manga-Translator\\lib\\site-packages\\IPython\\core\\interactiveshell.py\", line 2914, in run_cell\n      result = self._run_cell(\n    File \"C:\\Users\\olive\\anaconda3\\envs\\Project-Fugu-Manga-Translator\\lib\\site-packages\\IPython\\core\\interactiveshell.py\", line 2960, in _run_cell\n      return runner(coro)\n    File \"C:\\Users\\olive\\anaconda3\\envs\\Project-Fugu-Manga-Translator\\lib\\site-packages\\IPython\\core\\async_helpers.py\", line 78, in _pseudo_sync_runner\n      coro.send(None)\n    File \"C:\\Users\\olive\\anaconda3\\envs\\Project-Fugu-Manga-Translator\\lib\\site-packages\\IPython\\core\\interactiveshell.py\", line 3185, in run_cell_async\n      has_raised = await self.run_ast_nodes(code_ast.body, cell_name,\n    File \"C:\\Users\\olive\\anaconda3\\envs\\Project-Fugu-Manga-Translator\\lib\\site-packages\\IPython\\core\\interactiveshell.py\", line 3377, in run_ast_nodes\n      if (await self.run_code(code, result,  async_=asy)):\n    File \"C:\\Users\\olive\\anaconda3\\envs\\Project-Fugu-Manga-Translator\\lib\\site-packages\\IPython\\core\\interactiveshell.py\", line 3457, in run_code\n      exec(code_obj, self.user_global_ns, self.user_ns)\n    File \"C:\\Users\\olive\\AppData\\Local\\Temp/ipykernel_8348/3126018971.py\", line 2, in <module>\n      autoencoder.fit(\n    File \"C:\\Users\\olive\\anaconda3\\envs\\Project-Fugu-Manga-Translator\\lib\\site-packages\\keras\\utils\\traceback_utils.py\", line 64, in error_handler\n      return fn(*args, **kwargs)\n    File \"C:\\Users\\olive\\anaconda3\\envs\\Project-Fugu-Manga-Translator\\lib\\site-packages\\keras\\engine\\training.py\", line 1384, in fit\n      tmp_logs = self.train_function(iterator)\n    File \"C:\\Users\\olive\\anaconda3\\envs\\Project-Fugu-Manga-Translator\\lib\\site-packages\\keras\\engine\\training.py\", line 1021, in train_function\n      return step_function(self, iterator)\n    File \"C:\\Users\\olive\\anaconda3\\envs\\Project-Fugu-Manga-Translator\\lib\\site-packages\\keras\\engine\\training.py\", line 1010, in step_function\n      outputs = model.distribute_strategy.run(run_step, args=(data,))\n    File \"C:\\Users\\olive\\anaconda3\\envs\\Project-Fugu-Manga-Translator\\lib\\site-packages\\keras\\engine\\training.py\", line 1000, in run_step\n      outputs = model.train_step(data)\n    File \"C:\\Users\\olive\\anaconda3\\envs\\Project-Fugu-Manga-Translator\\lib\\site-packages\\keras\\engine\\training.py\", line 863, in train_step\n      self.optimizer.minimize(loss, self.trainable_variables, tape=tape)\n    File \"C:\\Users\\olive\\anaconda3\\envs\\Project-Fugu-Manga-Translator\\lib\\site-packages\\keras\\optimizer_v2\\optimizer_v2.py\", line 530, in minimize\n      grads_and_vars = self._compute_gradients(\n    File \"C:\\Users\\olive\\anaconda3\\envs\\Project-Fugu-Manga-Translator\\lib\\site-packages\\keras\\optimizer_v2\\optimizer_v2.py\", line 583, in _compute_gradients\n      grads_and_vars = self._get_gradients(tape, loss, var_list, grad_loss)\n    File \"C:\\Users\\olive\\anaconda3\\envs\\Project-Fugu-Manga-Translator\\lib\\site-packages\\keras\\optimizer_v2\\optimizer_v2.py\", line 464, in _get_gradients\n      grads = tape.gradient(loss, var_list, grad_loss)\nNode: 'gradient_tape/autoencoder/sequential_1/conv2d_transpose_2/conv2d_transpose/Conv2D'\nOOM when allocating tensor with shape[20,32,513,513] and type float on /job:localhost/replica:0/task:0/device:GPU:0 by allocator GPU_0_bfc\n\t [[{{node gradient_tape/autoencoder/sequential_1/conv2d_transpose_2/conv2d_transpose/Conv2D}}]]\nHint: If you want to see a list of allocated tensors when OOM happens, add report_tensor_allocations_upon_oom to RunOptions for current allocation info. This isn't available when running in Eager mode.\n [Op:__inference_train_function_1189]",
     "output_type": "error",
     "traceback": [
      "\u001B[1;31m---------------------------------------------------------------------------\u001B[0m",
      "\u001B[1;31mResourceExhaustedError\u001B[0m                    Traceback (most recent call last)",
      "\u001B[1;32m~\\AppData\\Local\\Temp/ipykernel_8348/3126018971.py\u001B[0m in \u001B[0;36m<module>\u001B[1;34m\u001B[0m\n\u001B[0;32m      1\u001B[0m \u001B[1;31m# train the autoencoder\u001B[0m\u001B[1;33m\u001B[0m\u001B[1;33m\u001B[0m\u001B[1;33m\u001B[0m\u001B[0m\n\u001B[1;32m----> 2\u001B[1;33m autoencoder.fit(\n\u001B[0m\u001B[0;32m      3\u001B[0m     \u001B[0mx\u001B[0m\u001B[1;33m=\u001B[0m\u001B[0mtrain_data\u001B[0m\u001B[1;33m,\u001B[0m\u001B[1;33m\u001B[0m\u001B[1;33m\u001B[0m\u001B[0m\n\u001B[0;32m      4\u001B[0m     \u001B[0mepochs\u001B[0m\u001B[1;33m=\u001B[0m\u001B[1;36m2\u001B[0m\u001B[1;33m,\u001B[0m\u001B[1;33m\u001B[0m\u001B[1;33m\u001B[0m\u001B[0m\n\u001B[0;32m      5\u001B[0m     \u001B[0mvalidation_data\u001B[0m\u001B[1;33m=\u001B[0m\u001B[0mtest_data\u001B[0m\u001B[1;33m\u001B[0m\u001B[1;33m\u001B[0m\u001B[0m\n",
      "\u001B[1;32m~\\anaconda3\\envs\\Project-Fugu-Manga-Translator\\lib\\site-packages\\keras\\utils\\traceback_utils.py\u001B[0m in \u001B[0;36merror_handler\u001B[1;34m(*args, **kwargs)\u001B[0m\n\u001B[0;32m     65\u001B[0m     \u001B[1;32mexcept\u001B[0m \u001B[0mException\u001B[0m \u001B[1;32mas\u001B[0m \u001B[0me\u001B[0m\u001B[1;33m:\u001B[0m  \u001B[1;31m# pylint: disable=broad-except\u001B[0m\u001B[1;33m\u001B[0m\u001B[1;33m\u001B[0m\u001B[0m\n\u001B[0;32m     66\u001B[0m       \u001B[0mfiltered_tb\u001B[0m \u001B[1;33m=\u001B[0m \u001B[0m_process_traceback_frames\u001B[0m\u001B[1;33m(\u001B[0m\u001B[0me\u001B[0m\u001B[1;33m.\u001B[0m\u001B[0m__traceback__\u001B[0m\u001B[1;33m)\u001B[0m\u001B[1;33m\u001B[0m\u001B[1;33m\u001B[0m\u001B[0m\n\u001B[1;32m---> 67\u001B[1;33m       \u001B[1;32mraise\u001B[0m \u001B[0me\u001B[0m\u001B[1;33m.\u001B[0m\u001B[0mwith_traceback\u001B[0m\u001B[1;33m(\u001B[0m\u001B[0mfiltered_tb\u001B[0m\u001B[1;33m)\u001B[0m \u001B[1;32mfrom\u001B[0m \u001B[1;32mNone\u001B[0m\u001B[1;33m\u001B[0m\u001B[1;33m\u001B[0m\u001B[0m\n\u001B[0m\u001B[0;32m     68\u001B[0m     \u001B[1;32mfinally\u001B[0m\u001B[1;33m:\u001B[0m\u001B[1;33m\u001B[0m\u001B[1;33m\u001B[0m\u001B[0m\n\u001B[0;32m     69\u001B[0m       \u001B[1;32mdel\u001B[0m \u001B[0mfiltered_tb\u001B[0m\u001B[1;33m\u001B[0m\u001B[1;33m\u001B[0m\u001B[0m\n",
      "\u001B[1;32m~\\anaconda3\\envs\\Project-Fugu-Manga-Translator\\lib\\site-packages\\tensorflow\\python\\eager\\execute.py\u001B[0m in \u001B[0;36mquick_execute\u001B[1;34m(op_name, num_outputs, inputs, attrs, ctx, name)\u001B[0m\n\u001B[0;32m     52\u001B[0m   \u001B[1;32mtry\u001B[0m\u001B[1;33m:\u001B[0m\u001B[1;33m\u001B[0m\u001B[1;33m\u001B[0m\u001B[0m\n\u001B[0;32m     53\u001B[0m     \u001B[0mctx\u001B[0m\u001B[1;33m.\u001B[0m\u001B[0mensure_initialized\u001B[0m\u001B[1;33m(\u001B[0m\u001B[1;33m)\u001B[0m\u001B[1;33m\u001B[0m\u001B[1;33m\u001B[0m\u001B[0m\n\u001B[1;32m---> 54\u001B[1;33m     tensors = pywrap_tfe.TFE_Py_Execute(ctx._handle, device_name, op_name,\n\u001B[0m\u001B[0;32m     55\u001B[0m                                         inputs, attrs, num_outputs)\n\u001B[0;32m     56\u001B[0m   \u001B[1;32mexcept\u001B[0m \u001B[0mcore\u001B[0m\u001B[1;33m.\u001B[0m\u001B[0m_NotOkStatusException\u001B[0m \u001B[1;32mas\u001B[0m \u001B[0me\u001B[0m\u001B[1;33m:\u001B[0m\u001B[1;33m\u001B[0m\u001B[1;33m\u001B[0m\u001B[0m\n",
      "\u001B[1;31mResourceExhaustedError\u001B[0m: Graph execution error:\n\nDetected at node 'gradient_tape/autoencoder/sequential_1/conv2d_transpose_2/conv2d_transpose/Conv2D' defined at (most recent call last):\n    File \"C:\\Users\\olive\\anaconda3\\envs\\Project-Fugu-Manga-Translator\\lib\\runpy.py\", line 194, in _run_module_as_main\n      return _run_code(code, main_globals, None,\n    File \"C:\\Users\\olive\\anaconda3\\envs\\Project-Fugu-Manga-Translator\\lib\\runpy.py\", line 87, in _run_code\n      exec(code, run_globals)\n    File \"C:\\Users\\olive\\anaconda3\\envs\\Project-Fugu-Manga-Translator\\lib\\site-packages\\ipykernel_launcher.py\", line 16, in <module>\n      app.launch_new_instance()\n    File \"C:\\Users\\olive\\anaconda3\\envs\\Project-Fugu-Manga-Translator\\lib\\site-packages\\traitlets\\config\\application.py\", line 846, in launch_instance\n      app.start()\n    File \"C:\\Users\\olive\\anaconda3\\envs\\Project-Fugu-Manga-Translator\\lib\\site-packages\\ipykernel\\kernelapp.py\", line 677, in start\n      self.io_loop.start()\n    File \"C:\\Users\\olive\\anaconda3\\envs\\Project-Fugu-Manga-Translator\\lib\\site-packages\\tornado\\platform\\asyncio.py\", line 199, in start\n      self.asyncio_loop.run_forever()\n    File \"C:\\Users\\olive\\anaconda3\\envs\\Project-Fugu-Manga-Translator\\lib\\asyncio\\base_events.py\", line 570, in run_forever\n      self._run_once()\n    File \"C:\\Users\\olive\\anaconda3\\envs\\Project-Fugu-Manga-Translator\\lib\\asyncio\\base_events.py\", line 1859, in _run_once\n      handle._run()\n    File \"C:\\Users\\olive\\anaconda3\\envs\\Project-Fugu-Manga-Translator\\lib\\asyncio\\events.py\", line 81, in _run\n      self._context.run(self._callback, *self._args)\n    File \"C:\\Users\\olive\\anaconda3\\envs\\Project-Fugu-Manga-Translator\\lib\\site-packages\\ipykernel\\kernelbase.py\", line 457, in dispatch_queue\n      await self.process_one()\n    File \"C:\\Users\\olive\\anaconda3\\envs\\Project-Fugu-Manga-Translator\\lib\\site-packages\\ipykernel\\kernelbase.py\", line 446, in process_one\n      await dispatch(*args)\n    File \"C:\\Users\\olive\\anaconda3\\envs\\Project-Fugu-Manga-Translator\\lib\\site-packages\\ipykernel\\kernelbase.py\", line 353, in dispatch_shell\n      await result\n    File \"C:\\Users\\olive\\anaconda3\\envs\\Project-Fugu-Manga-Translator\\lib\\site-packages\\ipykernel\\kernelbase.py\", line 648, in execute_request\n      reply_content = await reply_content\n    File \"C:\\Users\\olive\\anaconda3\\envs\\Project-Fugu-Manga-Translator\\lib\\site-packages\\ipykernel\\ipkernel.py\", line 353, in do_execute\n      res = shell.run_cell(code, store_history=store_history, silent=silent)\n    File \"C:\\Users\\olive\\anaconda3\\envs\\Project-Fugu-Manga-Translator\\lib\\site-packages\\ipykernel\\zmqshell.py\", line 533, in run_cell\n      return super(ZMQInteractiveShell, self).run_cell(*args, **kwargs)\n    File \"C:\\Users\\olive\\anaconda3\\envs\\Project-Fugu-Manga-Translator\\lib\\site-packages\\IPython\\core\\interactiveshell.py\", line 2914, in run_cell\n      result = self._run_cell(\n    File \"C:\\Users\\olive\\anaconda3\\envs\\Project-Fugu-Manga-Translator\\lib\\site-packages\\IPython\\core\\interactiveshell.py\", line 2960, in _run_cell\n      return runner(coro)\n    File \"C:\\Users\\olive\\anaconda3\\envs\\Project-Fugu-Manga-Translator\\lib\\site-packages\\IPython\\core\\async_helpers.py\", line 78, in _pseudo_sync_runner\n      coro.send(None)\n    File \"C:\\Users\\olive\\anaconda3\\envs\\Project-Fugu-Manga-Translator\\lib\\site-packages\\IPython\\core\\interactiveshell.py\", line 3185, in run_cell_async\n      has_raised = await self.run_ast_nodes(code_ast.body, cell_name,\n    File \"C:\\Users\\olive\\anaconda3\\envs\\Project-Fugu-Manga-Translator\\lib\\site-packages\\IPython\\core\\interactiveshell.py\", line 3377, in run_ast_nodes\n      if (await self.run_code(code, result,  async_=asy)):\n    File \"C:\\Users\\olive\\anaconda3\\envs\\Project-Fugu-Manga-Translator\\lib\\site-packages\\IPython\\core\\interactiveshell.py\", line 3457, in run_code\n      exec(code_obj, self.user_global_ns, self.user_ns)\n    File \"C:\\Users\\olive\\AppData\\Local\\Temp/ipykernel_8348/3126018971.py\", line 2, in <module>\n      autoencoder.fit(\n    File \"C:\\Users\\olive\\anaconda3\\envs\\Project-Fugu-Manga-Translator\\lib\\site-packages\\keras\\utils\\traceback_utils.py\", line 64, in error_handler\n      return fn(*args, **kwargs)\n    File \"C:\\Users\\olive\\anaconda3\\envs\\Project-Fugu-Manga-Translator\\lib\\site-packages\\keras\\engine\\training.py\", line 1384, in fit\n      tmp_logs = self.train_function(iterator)\n    File \"C:\\Users\\olive\\anaconda3\\envs\\Project-Fugu-Manga-Translator\\lib\\site-packages\\keras\\engine\\training.py\", line 1021, in train_function\n      return step_function(self, iterator)\n    File \"C:\\Users\\olive\\anaconda3\\envs\\Project-Fugu-Manga-Translator\\lib\\site-packages\\keras\\engine\\training.py\", line 1010, in step_function\n      outputs = model.distribute_strategy.run(run_step, args=(data,))\n    File \"C:\\Users\\olive\\anaconda3\\envs\\Project-Fugu-Manga-Translator\\lib\\site-packages\\keras\\engine\\training.py\", line 1000, in run_step\n      outputs = model.train_step(data)\n    File \"C:\\Users\\olive\\anaconda3\\envs\\Project-Fugu-Manga-Translator\\lib\\site-packages\\keras\\engine\\training.py\", line 863, in train_step\n      self.optimizer.minimize(loss, self.trainable_variables, tape=tape)\n    File \"C:\\Users\\olive\\anaconda3\\envs\\Project-Fugu-Manga-Translator\\lib\\site-packages\\keras\\optimizer_v2\\optimizer_v2.py\", line 530, in minimize\n      grads_and_vars = self._compute_gradients(\n    File \"C:\\Users\\olive\\anaconda3\\envs\\Project-Fugu-Manga-Translator\\lib\\site-packages\\keras\\optimizer_v2\\optimizer_v2.py\", line 583, in _compute_gradients\n      grads_and_vars = self._get_gradients(tape, loss, var_list, grad_loss)\n    File \"C:\\Users\\olive\\anaconda3\\envs\\Project-Fugu-Manga-Translator\\lib\\site-packages\\keras\\optimizer_v2\\optimizer_v2.py\", line 464, in _get_gradients\n      grads = tape.gradient(loss, var_list, grad_loss)\nNode: 'gradient_tape/autoencoder/sequential_1/conv2d_transpose_2/conv2d_transpose/Conv2D'\nOOM when allocating tensor with shape[20,32,513,513] and type float on /job:localhost/replica:0/task:0/device:GPU:0 by allocator GPU_0_bfc\n\t [[{{node gradient_tape/autoencoder/sequential_1/conv2d_transpose_2/conv2d_transpose/Conv2D}}]]\nHint: If you want to see a list of allocated tensors when OOM happens, add report_tensor_allocations_upon_oom to RunOptions for current allocation info. This isn't available when running in Eager mode.\n [Op:__inference_train_function_1189]"
     ]
    }
   ],
   "source": [
    "# train the autoencoder\n",
    "autoencoder.fit(\n",
    "    x=train_data,\n",
    "    epochs=2,\n",
    "    validation_data=test_data\n",
    ")"
   ],
   "metadata": {
    "collapsed": false,
    "pycharm": {
     "name": "#%%\n"
    }
   }
  },
  {
   "cell_type": "code",
   "execution_count": null,
   "outputs": [],
   "source": [
    "# book = \"ARMS\"\n",
    "# page = {}\n",
    "# page[\"@index\"] = 4\n",
    "# skimage.io.imshow(autoencoder.predict((skimage.io.imread(\"../datasets/Manga109/Manga109_released_2021_12_30/padded_text_stripped_images/\" + book + \"/%03d.jpg\" % (page[\"@index\"]))/255)[np.newaxis])[0])"
   ],
   "metadata": {
    "collapsed": false,
    "pycharm": {
     "name": "#%%\n"
    }
   }
  },
  {
   "cell_type": "code",
   "execution_count": null,
   "outputs": [],
   "source": [
    "# autoencoder.save(\"model/autoencoder\")"
   ],
   "metadata": {
    "collapsed": false,
    "pycharm": {
     "name": "#%%\n"
    }
   }
  },
  {
   "cell_type": "code",
   "execution_count": null,
   "outputs": [],
   "source": [
    "# _autoencoder = tf.keras.models.load_model(\"model/autoencoder\", custom_objects = {\"Autoencoder\": Autoencoder})"
   ],
   "metadata": {
    "collapsed": false,
    "pycharm": {
     "name": "#%%\n"
    }
   }
  },
  {
   "cell_type": "code",
   "execution_count": null,
   "outputs": [],
   "source": [
    "# _autoencoder.decoder.summary()"
   ],
   "metadata": {
    "collapsed": false,
    "pycharm": {
     "name": "#%%\n"
    }
   }
  },
  {
   "cell_type": "code",
   "execution_count": null,
   "outputs": [],
   "source": [
    "# plt.imshow(skimage.io.imread(\"../datasets/Manga109/Manga109_released_2021_12_30/padded_text_stripped_images/\" + book + \"/%03d.jpg\" % (page[\"@index\"]))/255)"
   ],
   "metadata": {
    "collapsed": false,
    "pycharm": {
     "name": "#%%\n"
    }
   }
  },
  {
   "cell_type": "markdown",
   "source": [
    "## References"
   ],
   "metadata": {
    "collapsed": false
   }
  },
  {
   "cell_type": "markdown",
   "source": [
    "[https://keras.io/examples/vision/autoencoder/](https://keras.io/examples/vision/autoencoder/)"
   ],
   "metadata": {
    "collapsed": false,
    "pycharm": {
     "name": "#%% md\n"
    }
   }
  }
 ],
 "metadata": {
  "kernelspec": {
   "display_name": "Python 3",
   "language": "python",
   "name": "python3"
  },
  "language_info": {
   "codemirror_mode": {
    "name": "ipython",
    "version": 2
   },
   "file_extension": ".py",
   "mimetype": "text/x-python",
   "name": "python",
   "nbconvert_exporter": "python",
   "pygments_lexer": "ipython2",
   "version": "2.7.6"
  }
 },
 "nbformat": 4,
 "nbformat_minor": 0
}