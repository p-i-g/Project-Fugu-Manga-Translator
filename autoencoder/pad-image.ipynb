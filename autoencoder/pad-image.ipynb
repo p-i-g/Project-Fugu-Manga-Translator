{
 "cells": [
  {
   "cell_type": "markdown",
   "metadata": {
    "collapsed": true,
    "pycharm": {
     "name": "#%% md\n"
    }
   },
   "source": [
    "## Pad all images to 1024 x 1024 for training autoencoder"
   ]
  },
  {
   "cell_type": "code",
   "execution_count": 1,
   "outputs": [],
   "source": [
    "import manga109api\n",
    "import os\n",
    "import skimage\n",
    "import numpy as np"
   ],
   "metadata": {
    "collapsed": false,
    "pycharm": {
     "name": "#%%\n"
    }
   }
  },
  {
   "cell_type": "code",
   "execution_count": 2,
   "outputs": [],
   "source": [
    "#load dataset\n",
    "manga109_root = \"../datasets/Manga109/Manga109_released_2021_12_30\"\n",
    "dataset = manga109api.Parser(manga109_root)"
   ],
   "metadata": {
    "collapsed": false,
    "pycharm": {
     "name": "#%%\n"
    }
   }
  },
  {
   "cell_type": "code",
   "execution_count": 3,
   "outputs": [],
   "source": [
    "#check for presence of folder otherwise it will throw file not found error due to absence of directory\n",
    "if not os.path.isdir(\"../datasets/Manga109/Manga109_released_2021_12_30/padded_text_stripped_images\"):\n",
    "        os.mkdir(\"../datasets/Manga109/Manga109_released_2021_12_30/padded_text_stripped_images\")\n",
    "for book in dataset.books:\n",
    "    #check for presence of the folder of book otherwise it will throw file not found error due to absence of directory\n",
    "    if not os.path.isdir(\"../datasets/Manga109/Manga109_released_2021_12_30/padded_text_stripped_images/\" + book):\n",
    "        os.mkdir(\"../datasets/Manga109/Manga109_released_2021_12_30/padded_text_stripped_images/\" + book)\n",
    "    for page in dataset.get_annotation(book)[\"page\"]:\n",
    "        #read original image\n",
    "        image = skimage.io.imread(\"../datasets/Manga109/Manga109_released_2021_12_30/text_stripped_images/\" + book + \"/%03d.jpg\" % (page[\"@index\"]))\n",
    "        width = page[\"@width\"]\n",
    "        height = page[\"@height\"]\n",
    "        #skip images that are larger than 2048 in at least one dimension\n",
    "        if width > 2048 or height > 2048:\n",
    "            continue\n",
    "        a = (2048 - height) // 2\n",
    "        aa = 2048 - a - height\n",
    "        b = (2048 - width) // 2\n",
    "        bb = 2048 - b - width\n",
    "        image = np.pad(image, pad_width=((a, aa), (b, bb), (0, 0)), mode='constant')\n",
    "        skimage.io.imsave(\"../datasets/Manga109/Manga109_released_2021_12_30/padded_text_stripped_images/\" + book + \"/%03d.jpg\" %(page[\"@index\"]), image)"
   ],
   "metadata": {
    "collapsed": false,
    "pycharm": {
     "name": "#%%\n"
    }
   }
  }
 ],
 "metadata": {
  "kernelspec": {
   "display_name": "Python 3",
   "language": "python",
   "name": "python3"
  },
  "language_info": {
   "codemirror_mode": {
    "name": "ipython",
    "version": 2
   },
   "file_extension": ".py",
   "mimetype": "text/x-python",
   "name": "python",
   "nbconvert_exporter": "python",
   "pygments_lexer": "ipython2",
   "version": "2.7.6"
  }
 },
 "nbformat": 4,
 "nbformat_minor": 0
}