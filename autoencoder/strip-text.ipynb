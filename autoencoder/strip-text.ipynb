{
 "cells": [
  {
   "cell_type": "markdown",
   "source": [
    "## Strip text from all images for training for autoencoder"
   ],
   "metadata": {
    "collapsed": false,
    "pycharm": {
     "name": "#%% md\n"
    }
   }
  },
  {
   "cell_type": "code",
   "execution_count": 1,
   "outputs": [],
   "source": [
    "import manga109api\n",
    "import os\n",
    "import skimage\n",
    "import numpy as np"
   ],
   "metadata": {
    "collapsed": false,
    "pycharm": {
     "name": "#%%\n"
    }
   }
  },
  {
   "cell_type": "code",
   "execution_count": 2,
   "outputs": [],
   "source": [
    "#load dataset\n",
    "manga109_root = \"../datasets/Manga109/Manga109_released_2021_12_30\"\n",
    "dataset = manga109api.Parser(manga109_root)"
   ],
   "metadata": {
    "collapsed": false,
    "pycharm": {
     "name": "#%%\n"
    }
   }
  },
  {
   "cell_type": "code",
   "execution_count": 3,
   "outputs": [
    {
     "name": "stderr",
     "output_type": "stream",
     "text": [
      "C:\\Users\\olive\\AppData\\Local\\Temp/ipykernel_19360/2603561384.py:19: UserWarning: ../datasets/Manga109/Manga109_released_2021_12_30/text_stripped_images/MagicianLoad/012.jpg is a low contrast image\n",
      "  skimage.io.imsave(\"../datasets/Manga109/Manga109_released_2021_12_30/text_stripped_images/\" + book + \"/%03d.jpg\" % (page[\"@index\"]), image)\n",
      "C:\\Users\\olive\\AppData\\Local\\Temp/ipykernel_19360/2603561384.py:19: UserWarning: ../datasets/Manga109/Manga109_released_2021_12_30/text_stripped_images/PrayerHaNemurenai/000.jpg is a low contrast image\n",
      "  skimage.io.imsave(\"../datasets/Manga109/Manga109_released_2021_12_30/text_stripped_images/\" + book + \"/%03d.jpg\" % (page[\"@index\"]), image)\n"
     ]
    }
   ],
   "source": [
    "#check for presence of folder otherwise it will throw file not found error due to absence of directory\n",
    "if not os.path.isdir(\"../datasets/Manga109/Manga109_released_2021_12_30/text_stripped_images\"):\n",
    "        os.mkdir(\"../datasets/Manga109/Manga109_released_2021_12_30/text_stripped_images\")\n",
    "for book in dataset.books:\n",
    "    #check for presence of the folder of book otherwise it will throw file not found error due to absence of directory\n",
    "    if not os.path.isdir(\"../datasets/Manga109/Manga109_released_2021_12_30/text_stripped_images/\" + book):\n",
    "        os.mkdir(\"../datasets/Manga109/Manga109_released_2021_12_30/text_stripped_images/\" + book)\n",
    "    for page in dataset.get_annotation(book)[\"page\"]:\n",
    "        #read original image\n",
    "        image = skimage.io.imread(\"../datasets/Manga109/Manga109_released_2021_12_30/images/\" + book + \"/%03d.jpg\" % (page[\"@index\"]))\n",
    "        width = page[\"@width\"]\n",
    "        height = page[\"@height\"]\n",
    "        #strip all texts\n",
    "        for text in page[\"text\"]:\n",
    "            mask = np.full((height, width), False)\n",
    "            mask[text[\"@ymin\"] : text[\"@ymax\"], text[\"@xmin\"] : text[\"@xmax\"]] = True\n",
    "            image[mask] = 255\n",
    "        #output image with text stripped\n",
    "        skimage.io.imsave(\"../datasets/Manga109/Manga109_released_2021_12_30/text_stripped_images/\" + book + \"/%03d.jpg\" % (page[\"@index\"]), image)"
   ],
   "metadata": {
    "collapsed": false,
    "pycharm": {
     "name": "#%%\n"
    }
   }
  }
 ],
 "metadata": {
  "kernelspec": {
   "display_name": "Python 3",
   "language": "python",
   "name": "python3"
  },
  "language_info": {
   "codemirror_mode": {
    "name": "ipython",
    "version": 2
   },
   "file_extension": ".py",
   "mimetype": "text/x-python",
   "name": "python",
   "nbconvert_exporter": "python",
   "pygments_lexer": "ipython2",
   "version": "2.7.6"
  }
 },
 "nbformat": 4,
 "nbformat_minor": 0
}