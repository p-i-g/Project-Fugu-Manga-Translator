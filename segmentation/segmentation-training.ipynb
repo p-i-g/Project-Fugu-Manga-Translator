{
 "cells": [
  {
   "cell_type": "markdown",
   "source": [
    "# Training Segmentation Model"
   ],
   "metadata": {
    "collapsed": false,
    "pycharm": {
     "name": "#%% md\n"
    }
   }
  },
  {
   "cell_type": "code",
   "execution_count": null,
   "outputs": [],
   "source": [
    "import manga109api"
   ],
   "metadata": {
    "collapsed": false,
    "pycharm": {
     "name": "#%%\n"
    }
   }
  },
  {
   "cell_type": "code",
   "execution_count": null,
   "outputs": [],
   "source": [
    "manga109_root = \"../datasets/Manga109/Manga109_released_2021_12_30\"\n",
    "dataset = manga109api.Parser(manga109_root)"
   ],
   "metadata": {
    "collapsed": false,
    "pycharm": {
     "name": "#%%\n"
    }
   }
  },
  {
   "cell_type": "code",
   "execution_count": null,
   "outputs": [],
   "source": [
    "from mrcnn.config import Config\n",
    "from mrcnn import utils\n",
    "import mrcnn.model as modellib\n",
    "from mrcnn import visualize\n",
    "from mrcnn.model import log\n",
    "import matplotlib.pyplot as plt\n",
    "import numpy as np\n",
    "import os\n",
    "import tensorflow as tf\n",
    "\n",
    "%matplotlib inline\n",
    "\n",
    "# Directory to save logs and trained model\n",
    "MODEL_DIR = \"model\"\n",
    "#\n",
    "# # Local path to trained weights file\n",
    "# COCO_MODEL_PATH = \"../model-weights/mask_rcnn_coco.h5\"\n",
    "# # Download COCO trained weights from Releases if needed\n",
    "# if not os.path.exists(COCO_MODEL_PATH):\n",
    "#     utils.download_trained_weights(COCO_MODEL_PATH)"
   ],
   "metadata": {
    "collapsed": false,
    "pycharm": {
     "name": "#%%\n"
    }
   }
  },
  {
   "cell_type": "code",
   "execution_count": null,
   "outputs": [],
   "source": [
    "def get_ax(rows=1, cols=1, size=8):\n",
    "    \"\"\"Return a Matplotlib Axes array to be used in\n",
    "    all visualizations in the notebook. Provide a\n",
    "    central point to control graph sizes.\n",
    "\n",
    "    Change the default size attribute to control the size\n",
    "    of rendered images\n",
    "    \"\"\"\n",
    "    _, ax = plt.subplots(rows, cols, figsize=(size*cols, size*rows))\n",
    "    return ax"
   ],
   "metadata": {
    "collapsed": false,
    "pycharm": {
     "name": "#%%\n"
    }
   }
  },
  {
   "cell_type": "code",
   "execution_count": null,
   "outputs": [],
   "source": [
    "import cv2\n",
    "class MangaDataset(utils.Dataset):\n",
    "    \"\"\"Loads the manga109 dataset. The labels consist of \"frame\" and \"text\".\n",
    "    \"\"\"\n",
    "\n",
    "    def load_manga(self, is_train = True):\n",
    "        \"\"\"Loads the images.\n",
    "        \"\"\"\n",
    "        # Add classes\n",
    "        self.add_class(\"manga\", 1, \"frame\")\n",
    "        self.add_class(\"manga\", 2, \"text\")\n",
    "\n",
    "        count = -1\n",
    "        # add images\n",
    "        for book in dataset.books:\n",
    "            for page in dataset.get_annotation(book)[\"page\"]:\n",
    "\n",
    "                # train test split\n",
    "                count += 1\n",
    "                if count % 5 == 0 and is_train: continue\n",
    "                if count % 5 != 0 and (not is_train): continue\n",
    "\n",
    "                attr = {\"book\": book, \"page\": page[\"@index\"]}\n",
    "\n",
    "                self.add_image(\"manga\", image_id=count, path=manga109_root + \"/images/\" + book + \"/\" + str(page[\"@index\"]).zfill(3) + \".jpg\", book=book, page=page[\"@index\"])\n",
    "\n",
    "\n",
    "    def image_reference(self, image_id):\n",
    "        \"\"\"Return the manga data of the image.\"\"\"\n",
    "        info = self.image_info[image_id]\n",
    "        if info[\"source\"] == \"manga\":\n",
    "            return info[\"manga\"]\n",
    "        else:\n",
    "            super(self.__class__).image_reference(self, image_id)\n",
    "\n",
    "    def load_mask(self, image_id):\n",
    "        \"\"\"Generate instance masks for shapes of the given image ID.\n",
    "        \"\"\"\n",
    "        info = self.image_info[image_id]\n",
    "        book = info[\"book\"]\n",
    "        page = dataset.get_annotation(book)[\"page\"][info[\"page\"]]\n",
    "        class_ids = []\n",
    "        masks = []\n",
    "        width = page[\"@width\"]\n",
    "        height = page[\"@height\"]\n",
    "        for frame in page[\"frame\"]:\n",
    "            mask = np.zeros((height, width), dtype=\"uint8\")\n",
    "            mask[frame[\"@ymin\"] : frame[\"@ymax\"], frame[\"@xmin\"] : frame[\"@xmax\"]] = 1\n",
    "            masks.append(mask)\n",
    "            class_ids.append(self.class_names.index(\"frame\"))\n",
    "        for text in page[\"text\"]:\n",
    "            mask = np.zeros((height, width), dtype=\"uint8\")\n",
    "            mask[text[\"@ymin\"] : text[\"@ymax\"], text[\"@xmin\"] : text[\"@xmax\"]] = 2\n",
    "            masks.append(mask)\n",
    "            class_ids.append(self.class_names.index(\"text\"))\n",
    "        if class_ids:\n",
    "            masks_arr = np.dstack(masks)\n",
    "        else:\n",
    "            masks_arr = np.zeros((height, width, 1))\n",
    "            class_ids.append(0)\n",
    "        return masks_arr, np.array(class_ids).astype(np.int32)"
   ],
   "metadata": {
    "collapsed": false,
    "pycharm": {
     "name": "#%%\n"
    }
   }
  },
  {
   "cell_type": "code",
   "execution_count": null,
   "outputs": [],
   "source": [
    "train_set = MangaDataset()\n",
    "train_set.load_manga(is_train=True)\n",
    "train_set.prepare()\n",
    "\n",
    "test_set = MangaDataset()\n",
    "test_set.load_manga(is_train=False)\n",
    "test_set.prepare()"
   ],
   "metadata": {
    "collapsed": false,
    "pycharm": {
     "name": "#%%\n"
    }
   }
  },
  {
   "cell_type": "code",
   "execution_count": null,
   "outputs": [],
   "source": [
    "# Load and display random samples\n",
    "image_ids = np.random.choice(train_set.image_ids, 4)\n",
    "for image_id in image_ids:\n",
    "    image = train_set.load_image(image_id)\n",
    "    mask, class_ids = train_set.load_mask(image_id)\n",
    "    visualize.display_top_masks(image, mask, class_ids, train_set.class_names)"
   ],
   "metadata": {
    "collapsed": false,
    "pycharm": {
     "name": "#%%\n"
    }
   }
  },
  {
   "cell_type": "code",
   "execution_count": null,
   "outputs": [],
   "source": [
    "class MangaConfig(Config):\n",
    "    \"\"\"Configuration for training on the manga109 dataset.\n",
    "    Derives from the base Config class and overrides values specific\n",
    "    to the manga109 dataset.\n",
    "    \"\"\"\n",
    "    # Give the configuration a recognizable name\n",
    "    NAME = \"manga\"\n",
    "\n",
    "    # Number of classes (including background)\n",
    "    NUM_CLASSES = 1 + 2  # background + 2 classes (frame + text)\n",
    "\n",
    "    STEPS_PER_EPOCH = len(train_set.image_ids)\n",
    "\n",
    "    TRAIN_ROIS_PER_IMAGE = 128\n",
    "\n",
    "    IMAGES_PER_GPU = 1\n",
    "\n",
    "    GPU_COUNT = 1\n",
    "\n",
    "\n",
    "config = MangaConfig()\n",
    "config.display()"
   ],
   "metadata": {
    "collapsed": false,
    "pycharm": {
     "name": "#%%\n"
    }
   }
  },
  {
   "cell_type": "markdown",
   "source": [
    "## Training"
   ],
   "metadata": {
    "collapsed": false
   }
  },
  {
   "cell_type": "code",
   "execution_count": null,
   "outputs": [],
   "source": [
    "# Create model in training mode\n",
    "tf.compat.v1.disable_eager_execution()\n",
    "model = modellib.MaskRCNN(mode=\"training\", config=config,\n",
    "                          model_dir=MODEL_DIR)\n",
    "# Which weights to start with?\n",
    "init_with = \"last\"\n",
    "\n",
    "if init_with == \"random\":\n",
    "    pass\n",
    "elif init_with == \"last\":\n",
    "    # Load the last model you trained and continue training\n",
    "    model.load_weights(model.find_last(), by_name=True)"
   ],
   "metadata": {
    "collapsed": false,
    "pycharm": {
     "name": "#%%\n"
    }
   }
  },
  {
   "cell_type": "code",
   "execution_count": null,
   "outputs": [],
   "source": [
    "# train all layers\n",
    "model.train(train_set, test_set,\n",
    "            learning_rate=config.LEARNING_RATE,\n",
    "            epochs=2,\n",
    "            layers=\"all\")"
   ],
   "metadata": {
    "collapsed": false,
    "pycharm": {
     "name": "#%%\n"
    }
   }
  }
 ],
 "metadata": {
  "kernelspec": {
   "display_name": "Python 3",
   "language": "python",
   "name": "python3"
  },
  "language_info": {
   "codemirror_mode": {
    "name": "ipython",
    "version": 2
   },
   "file_extension": ".py",
   "mimetype": "text/x-python",
   "name": "python",
   "nbconvert_exporter": "python",
   "pygments_lexer": "ipython2",
   "version": "2.7.6"
  }
 },
 "nbformat": 4,
 "nbformat_minor": 0
}