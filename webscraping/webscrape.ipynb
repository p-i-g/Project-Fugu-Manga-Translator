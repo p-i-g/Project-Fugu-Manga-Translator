{
 "cells": [
  {
   "cell_type": "code",
   "execution_count": null,
   "metadata": {
    "collapsed": true
   },
   "outputs": [],
   "source": [
    "import mangadex\n",
    "api = mangadex.Api()"
   ]
  },
  {
   "cell_type": "code",
   "execution_count": 3,
   "outputs": [
    {
     "data": {
      "text/plain": "[Manga(id = 46e530ce-0766-4cbd-b005-5e6fb0ba5e71, title = {'en': 'Boruto: Naruto Next Generations'}, altTitles = [{'ja': 'BORUTO-ボルト- -NARUTO NEXT GENERATIONS-'}, {'id': 'Boruto: Naruto Generasi Selanjutnya'}, {'ru': 'Боруто: Новое поколение Наруто'}, {'ru': 'Боруто. Наруто: Следующее поколение'}], description = {'en': \"Naruto was a young shinobi with an incorrigible knack for mischief. He achieved his dream to become the greatest ninja in the village and his face sits atop the Hokage monument. But this is not his story… A new generation of ninja are ready to take the stage, led by Naruto's own son, Boruto!\", 'pt': 'Continuação direta de Naruto. O mangá terá foco no filho de Naruto e Hinata, Boruto (Bolt), em Sarada, a filha de Sasuke e Sakura e na nova geração de ninjas após a 4° Grande Guerra Ninja.', 'ru': 'Cерия манги за совместным авторством Кодачи Укьё и Икемото Микио в жанре сёнэн, пришедшая на смену \"Наруто\".'}, isLocked = False, links = {'al': '87178', 'ap': 'boruto', 'bw': 'series/112484', 'kt': '36766', 'mu': '132770', 'amz': 'https://www.amazon.co.jp/gp/product/B0756Y2NNW', 'ebj': 'https://ebookjapan.yahoo.co.jp/books/375535/', 'mal': '95210', 'engtl': 'https://www.viz.com/any/boruto/section/38691/more'}, originalLanguage = ja \n lastVolume = , lastChapter = , publicationDemographic = shounen, status = ongoing, year = 2016, contentRating = safe \n createdAt = 2019-03-12 01:53:21+00:00, uploadedAt = 2022-01-25 09:35:43+00:00), authorId = ['54d2c255-f4a9-4bd5-b927-587ef9c4e3d2', '7f718dfa-e5be-45ea-a5cb-0fcd3ed52d5f'], artistId = ['99fd0ae9-cac3-47ed-85c9-e9983b93c839'], coverId = 3b2d5f83-7bec-4cce-8b53-661c1854cfaf,\n Manga(id = 94bfc769-f5e5-4f88-838c-4f69e7a663c2, title = {'en': 'Kuchi ga Saketemo Kimi Ni Wa'}, altTitles = [{'en': 'Even If You Slit My Mouth'}, {'ja': '口が裂けても君には'}, {'ja-ro': 'Kuchi ga Saketemo Kimi Niwa'}, {'ne': 'तिमीले मेरो मुख चिथर्दै पनि'}], description = {'en': \"Miroku-san, the slit-mouth woman, is to marry high school student Kouichi to maintain her existence as his family has been in charge of upkeeping superstitions for generations. To add, there seems to be another reason that he seems more than willing…   \\r\\n  \\r\\nMiroku, however, would rather use her own strength than borrow that of others. Thus, they establish a contract as follows.  \\r\\n1. For a trial period of a year, they are to act as though they were married.  \\r\\n2. If she is able to scare him within that year, the engagement will be broken.  \\r\\n  \\r\\n*This page refers to the three-part short story's official serialization, which began on the Shonen Jump+ website on November 10, 2020.*\", 'fr': \"Miroku-san, la femme à la bouche fendue, doit épouser Kouichi, un lycéen, pour maintenir son existence, car sa famille est responsable de l'entretien des superstitions depuis des générations. Pour ajouter, il semble y avoir une autre raison pour laquelle il semble plus que disposé …   \\r\\n  \\r\\nMiroku, cependant, préfère utiliser sa propre force plutôt que d'emprunter celle des autres. Ainsi, ils établissent un contrat comme suit.   \\r\\n1. Pendant une période d'essai d'un an, ils doivent agir comme s'ils étaient mariés.   \\r\\n2. Si elle parvient à lui faire peur dans l'année, l'engagement sera rompu.\"}, isLocked = False, links = {'al': '125624', 'ap': 'kuchi-ga-saketemo-kimi-ni-wa-2020', 'bw': 'series/287411', 'mu': '174799', 'mal': '128093', 'raw': 'https://shonenjumpplus.com/episode/13933686331735620819', 'engtl': 'https://mangaplus.shueisha.co.jp/titles/100179'}, originalLanguage = ja \n lastVolume = , lastChapter = , publicationDemographic = shounen, status = ongoing, year = 2020, contentRating = safe \n createdAt = 2020-12-02 02:54:52+00:00, uploadedAt = 2022-02-06 06:30:16+00:00), authorId = ['65b85a3f-bdd1-4a74-8e76-e470aedac9fd'], artistId = ['65b85a3f-bdd1-4a74-8e76-e470aedac9fd'], coverId = 0e0045ae-0d4b-42ce-baf1-167cdd474872,\n Manga(id = 35b9f818-926b-4f4a-aa2b-0ac068986a73, title = {'en': 'Kabushiki Gaisha Magi Lumiere'}, altTitles = [{'en': 'MagiLumiere Co., Ltd.'}, {'ja-ro': 'Kabushiki Gaisha MagiLumiere'}, {'ja': '株式会社マジルミエ'}, {'ru': 'Компания МагиЛумьер'}, {'ne': 'मागी-लुमिएर कं. लि.'}], description = {'en': 'Manga about a girl who was looking for a job and ended up in a corporation of magical girls fighting monsters.', 'ru': 'Манга про девочку, которая искала работу и попала в корпорацию девочек-волшебниц, борющихся с монстрами.'}, isLocked = False, links = {'al': '140482', 'ap': 'kabushiki-gaisha-magi-lumiere', 'bw': 'series/336850/', 'kt': '61566', 'mu': '192521', 'amz': 'https://www.amazon.co.jp/gp/product/4088830288', 'cdj': 'https://www.cdjapan.co.jp/product/NEOBK-2697153', 'ebj': 'https://ebookjapan.yahoo.co.jp/books/681907/', 'mal': '142224', 'raw': 'https://shonenjumpplus.com/episode/3269754496555043141', 'engtl': 'https://mangaplus.shueisha.co.jp/titles/100183'}, originalLanguage = ja \n lastVolume = , lastChapter = , publicationDemographic = shounen, status = ongoing, year = 2021, contentRating = safe \n createdAt = 2021-11-03 13:16:12+00:00, uploadedAt = 2022-02-11 22:20:53+00:00), authorId = ['39ccdbc8-d755-4f1e-9c56-5f93729e31e6'], artistId = ['dac24e31-67c6-4fda-a29c-f5b80640f4cb'], coverId = 2589e0a4-d6ac-420a-a1f4-ec0ae7cdfdf6,\n Manga(id = 6b958848-c885-4735-9201-12ee77abcb3c, title = {'en': 'SPY×FAMILY'}, altTitles = [{'en': 'Spy Family'}, {'en': 'SPY x FAMILY'}, {'pl': 'SZPIEG X RODZINA'}, {'ru': 'Семья шпиона'}, {'hi': 'जासूस X परिवार'}, {'ja': 'スパイ ファミリー'}, {'zh': '間諜過家家'}, {'zh-hk': '间谍过家家'}, {'ne': 'जासूस×परिवार'}], description = {'en': 'The master spy codenamed <Twilight> has spent his days on undercover missions, all for the dream of a better world. But one day, he receives a particularly difficult new order from command. For his mission, he must form a temporary family and start a new life?! A Spy/Action/Comedy about a one-of-a-kind family!', 'it': 'Twilight, una delle migliori spie al mondo, ha trascorso la vita ad affrontare missioni sotto copertura per rendere il mondo un posto migliore. Un giorno però riceve un compito particolarmente difficile: dovrà formare una famiglia temporanea e iniziare una nuova vita!', 'pl': 'Wyśmienity szpieg, Zmierzch, poświęcił się wykonywaniu tajnych misji z powodu marzeń o lepszym świecie. Ale pewnego dnia otrzymuje bardzo trudne do wykonania zadanie. Aby osiągnąć cel misji, musi założyć tymczasową rodzinę i prowadzić życie najzwyczajniejszego w świecie ojca!  \\r\\nOto opowieść o jedynej w swoim rodzaju rodzinie!', 'ru': 'Мастерский шпион с кодовым именем <Сумрак> проводит свои дни в закулисных миссиях, всё ради мечты о лучшем мире. Но однажды он получает особенно сложное новое указание от командования. Для этой миссии он обязательно должен завести фиктивную семью и начать новую жизнь! Шпионская экшен-комедия об единственной в своём роде семье!', 'pt-br': 'O brilhante espião \"Twilight\" se dedicava diariamente a cumprir missões secretas por um mundo melhor. Porém, um dia, ele recebeu uma nova tarefa bastante complicada... Para cumprir a sua missão, ele deve formar uma família temporária e começar uma nova vida, mas...?! Uma história de Espiões × Ação × Comédia de uma família bem peculiar!', 'zh-hk': '技藝高超的間諜<黃昏>，為了更加美好的世界,每天從事著諜報任務。有一天，司令下達了新的難題——…。為了完成任務，所臨時組建的家庭，所展開的新生活，但是！？間諜×打鬥×與眾不同的家族喜劇現在開始！！'}, isLocked = False, links = {'al': '108556', 'ap': 'spy-x-family', 'bw': 'series/206645', 'kt': '54448', 'mu': '153402', 'amz': 'https://www.amazon.co.jp/gp/product/B07XTRK2SQ', 'cdj': 'http://www.cdjapan.co.jp/searches?term.cat_id=UD-14-02-01&page=&agg_use=cat_ids_hierarchal_treeish_foldable&term.media_format=&q=SPY%C3%97FAMILY', 'ebj': 'https://ebookjapan.yahoo.co.jp/books/549186', 'mal': '119161', 'raw': 'https://shonenjumpplus.com/episode/10834108156648240735', 'engtl': 'https://mangaplus.shueisha.co.jp/titles/100056'}, originalLanguage = ja \n lastVolume = , lastChapter = , publicationDemographic = shounen, status = ongoing, year = 2019, contentRating = safe \n createdAt = 2019-11-15 00:34:07+00:00, uploadedAt = 2022-02-05 07:08:29+00:00), authorId = ['832a0f92-2cf4-4131-ac38-9c5c69d3f388'], artistId = ['832a0f92-2cf4-4131-ac38-9c5c69d3f388'], coverId = 3d38561d-b718-4f33-8156-aeca34b6d8af,\n Manga(id = 5c0094b6-ae83-4298-814d-48b99059aedc, title = {'en': 'Beast Children'}, altTitles = [{'en': 'ビーストチルドレン'}], description = {'en': 'Blood, guts and glory! You can find it all on the rugby field. A young man is about to be introduced to the sport of rugby in this brand-new series!'}, isLocked = False, links = {'al': '109173', 'ap': 'beast-children', 'bw': 'series/214391', 'kt': '54748', 'mu': '153836', 'amz': 'https://www.amazon.co.jp/dp/B07VGB49MM', 'ebj': 'https://ebookjapan.yahoo.co.jp/books/557275', 'mal': '120062', 'engtl': 'https://mangaplus.shueisha.co.jp/titles/100061'}, originalLanguage = ja \n lastVolume = 3, lastChapter = 27, publicationDemographic = shounen, status = ongoing, year = None, contentRating = safe \n createdAt = 2019-12-22 20:10:59+00:00, uploadedAt = 2021-05-25 15:42:47+00:00), authorId = ['8594398e-4386-4705-a1be-d5fbbab72bef'], artistId = ['8594398e-4386-4705-a1be-d5fbbab72bef'], coverId = 323d9453-15eb-4f1c-869c-f1fd98298196,\n Manga(id = 6a0d3c6e-a5d4-4f61-ae5c-fcff2a789145, title = {'en': 'Build King'}, altTitles = [{'en': 'Король стройки'}, {'en': 'ビルドキング'}], description = {'en': \"Tonkachi and Renge live on mysterious Hammer Island, a place where no human should be able to survive. The two are carpenters who build houses for the island's inhabitants, but what are their special powers? And what are their dreams? Construction soon begins on this megabuild of a battle fantasy story!\"}, isLocked = False, links = {'al': '125829', 'ap': 'build-king', 'bw': 'series/292318', 'kt': '53767', 'mu': '148391', 'amz': 'https://www.amazon.co.jp/dp/B08XM9SQ5L', 'mal': '130977', 'engtl': 'https://mangaplus.shueisha.co.jp/titles/100125'}, originalLanguage = ja \n lastVolume = 3, lastChapter = 25, publicationDemographic = shounen, status = completed, year = 2020, contentRating = safe \n createdAt = 2020-12-12 23:35:24+00:00, uploadedAt = 2022-01-25 09:46:41+00:00), authorId = ['97c42414-f1fc-49d2-9947-e2a1807c9cc6'], artistId = ['97c42414-f1fc-49d2-9947-e2a1807c9cc6'], coverId = a92cb261-3717-4f20-9b88-b4a97d91fd29,\n Manga(id = a77742b1-befd-49a4-bff5-1ad4e6b0ef7b, title = {'en': 'Chainsaw Man'}, altTitles = [{'uk': 'Людина-бензопила'}, {'en': 'Chain Saw Man'}, {'en': 'Chainsaw-Man'}, {'en': 'Chainsawman'}, {'ru': 'Человек-бензопила'}, {'ja': 'チェンソーマン'}, {'ja': '电锯人'}, {'zh-hk': '鏈鋸人'}, {'zh-ro': '電鋸人'}], description = {'en': \"Broke young man + chainsaw dog demon = Chainsaw Man!  \\r\\n  \\r\\nThe name says it all! Denji's life of poverty is changed forever when he merges with his pet chainsaw dog, Pochita! Now he's living in the big city and an official Devil Hunter. But he's got a lot to learn about his new job and chainsaw powers!\"}, isLocked = True, links = {'al': '105778', 'ap': 'chainsaw-man', 'bw': 'series/191172', 'kt': '54139', 'mu': '151847', 'amz': 'https://www.amazon.co.jp/gp/product/B07RL4GB9T', 'cdj': 'http://www.cdjapan.co.jp/searches?term.cat_id=UD-14-02-01&page=&agg_use=cat_ids_hierarchal_treeish_foldable&term.media_format=&q=%E3%83%81%E3%82%A7%E3%83%B3%E3%82%BD%E3%83%BC%E3%83%9E%E3%83%B3', 'ebj': 'https://ebookjapan.yahoo.co.jp/books/527520/', 'mal': '116778', 'engtl': 'https://mangaplus.shueisha.co.jp/titles/100037'}, originalLanguage = ja \n lastVolume = None, lastChapter = 97, publicationDemographic = shounen, status = completed, year = None, contentRating = suggestive \n createdAt = 2019-09-10 13:07:45+00:00, uploadedAt = 2022-01-25 10:18:23+00:00), authorId = ['f85a5b93-3c87-4c61-9032-07ceacbb9e64'], artistId = ['f85a5b93-3c87-4c61-9032-07ceacbb9e64'], coverId = 12f062e6-7fa0-4fc6-969e-0c0d0c87567d,\n Manga(id = cc1b8669-82b2-4232-99c1-40d48fc2d988, title = {'en': 'Undead Unluck'}, altTitles = [{'ja': 'アンデッドアンラック'}, {'ru': 'Нежить и Неудача'}], description = {'en': 'As an UNLUCKY girl prepares to face her death, an UNDEAD who desperately wants to die appears before her! Vicious, violent and buck naked! An unprecedented picaresque hero appears in Shonen Jump!  \\n  \\n- Winner of the 2020 Tsugimanga award.'}, isLocked = False, links = {'al': '114791', 'ap': 'undead-unluck', 'bw': 'series/239999', 'kt': '55829', 'mu': '160844', 'amz': 'https://www.amazon.co.jp/gp/product/B08DCDF646', 'cdj': 'https://www.cdjapan.co.jp/product/NEOBK-2655640?s_ssid=e36403618fe3622b18', 'ebj': 'https://ebookjapan.yahoo.co.jp/books/584525', 'mal': '123956', 'raw': 'https://shonenjumpplus.com/episode/13933686331707131076', 'engtl': 'https://mangaplus.shueisha.co.jp/titles/100081'}, originalLanguage = ja \n lastVolume = , lastChapter = , publicationDemographic = shounen, status = ongoing, year = 2020, contentRating = safe \n createdAt = 2019-11-30 12:35:06+00:00, uploadedAt = 2022-02-20 10:18:06+00:00), authorId = ['2585d83b-9f4d-439a-b6a0-d3e35dba2c06'], artistId = ['2585d83b-9f4d-439a-b6a0-d3e35dba2c06'], coverId = 446facbe-3bb3-4f4a-96a7-2b18cd7d54c3,\n Manga(id = d31d0aee-c7df-481f-ac60-bce111cdd8b0, title = {'en': 'Tokyo Shinobi Squad'}, altTitles = [{'en': 'Токийский отряд шиноби'}, {'en': 'トーキョー忍スクワッド'}, {'en': '东京忍者小队'}, {'en': '東京忍者小隊'}], description = {'en': 'Tokyo, 2049… Thanks to the Galapagos Reform enacted by the government, Russia, China, America and Japan are now connected by a Hyper Loop system. This globalization has turned Tokyo into the most crime-ridden city in the world. To fight the rising crime, those who have been working in the shadows since the Sengoku period are needed… They are…the Shinobi!  \\n  \\n\\n\\n---\\n\\n**Officially Translated:**  \\n- In French by [Kazé](http://manga.kaze.fr/)\\n'}, isLocked = False, links = {'al': '109174', 'ap': 'tokyo-shinobi-squad', 'bw': 'series/214389', 'mu': '153837', 'amz': 'https://www.amazon.co.jp/dp/B07VGBHT79', 'ebj': 'https://ebookjapan.yahoo.co.jp/books/557277/', 'mal': '120176', 'engtl': 'https://mangaplus.shueisha.co.jp/titles/100062'}, originalLanguage = ja \n lastVolume = 3, lastChapter = 27, publicationDemographic = shounen, status = completed, year = None, contentRating = safe \n createdAt = 2019-12-08 13:11:22+00:00, uploadedAt = 2021-05-25 15:48:03+00:00), authorId = ['61240cc6-4f2c-4be7-bccd-29ca3903b404'], artistId = ['c1ca4b81-79e7-4b9c-9c52-037121630450'], coverId = daadfb51-cf26-4f33-89c7-e9008271b76a,\n Manga(id = ed6ba867-0472-4f8f-af40-a2697fcd5cfc, title = {'en': 'Kiruru Kill Me'}, altTitles = [{'en': 'Kill Me.'}, {'ja': 'きるる KILL ME'}, {'es-la': 'Kiruru Mátame'}], description = {'en': \"Aoi, who is one of Japan's biggest entrepreneurs has a price on his head and the name of the assassin who is coming to collect on it is Kiruru Akaumi. But the one who commissioned this hit… was Aoi himself! He fell head over heels in love with Kiruru from the moment he saw her and, in order to spend more time with her to deepen their relationship, he himself commissioned the Kiruru company to kill him.  \\n  \\n[Official Spanish (Mangaplus)](https://mangaplus.shueisha.co.jp/titles/200046)\", 'ja': '日本屈指の大企業の御曹司・碧音持（あおいねも）は一人の女性に恋をした。名前は赤海（あかうみ）きるる。職業は殺し屋、闇社会の住人だった…。そんな彼女にもう一度会うために、音持がとった行動とは…!?\\u3000＜標的♂×暗殺者♀＞による極限のLOVEゲームが幕を開ける！', 'es-la': 'Aoi Nemo, dueño de una de las mayores empresas de Japón, se ha enamorado de una mujer. Su nombre es Kiruru Akaumi. Es una asesina y residente de los bajos mundos... ¿Qué debe hacer Aoi para poder volver a verla?\\u3000¡Un juego de amor extremo entre un objetivo ♂ y una asesina ♀ está a punto de comenzar!'}, isLocked = False, links = {'al': '117004', 'ap': 'kiruru-kill-me', 'bw': 'de0f7f4938-5ff3-47d4-b555-17c5d3211f56', 'kt': '58720', 'mu': '162439', 'amz': 'https://www.amazon.co.jp/dp/4088823680', 'ebj': 'https://ebookjapan.yahoo.co.jp/books/591780/A002388195/', 'mal': '125043', 'raw': 'https://shonenjumpplus.com/episode/10834108156763543098', 'engtl': 'https://sevenseasentertainment.com/series/kiruru-kill-me/'}, originalLanguage = ja \n lastVolume = , lastChapter = , publicationDemographic = shounen, status = ongoing, year = 2020, contentRating = suggestive \n createdAt = 2020-07-17 00:32:19+00:00, uploadedAt = 2022-02-09 22:34:59+00:00), authorId = ['886439ce-58bb-4d16-ba26-4c1a8da25111'], artistId = ['886439ce-58bb-4d16-ba26-4c1a8da25111'], coverId = c36c1396-e741-4679-a49f-a332eda41e04]"
     },
     "execution_count": 3,
     "metadata": {},
     "output_type": "execute_result"
    }
   ],
   "source": [
    "manga_list = api.get_manga_list()\n",
    "manga_list"
   ],
   "metadata": {
    "collapsed": false,
    "pycharm": {
     "name": "#%%\n"
    }
   }
  },
  {
   "cell_type": "code",
   "execution_count": 4,
   "outputs": [
    {
     "ename": "NameError",
     "evalue": "name 'api' is not defined",
     "output_type": "error",
     "traceback": [
      "\u001B[1;31m---------------------------------------------------------------------------\u001B[0m",
      "\u001B[1;31mNameError\u001B[0m                                 Traceback (most recent call last)",
      "\u001B[1;32m~\\AppData\\Local\\Temp/ipykernel_5424/4019115908.py\u001B[0m in \u001B[0;36m<module>\u001B[1;34m\u001B[0m\n\u001B[1;32m----> 1\u001B[1;33m \u001B[0mapi\u001B[0m\u001B[1;33m.\u001B[0m\u001B[0mcreate_account\u001B[0m\u001B[1;33m(\u001B[0m\u001B[0musername\u001B[0m \u001B[1;33m=\u001B[0m \u001B[1;34m\"jedlim\"\u001B[0m\u001B[1;33m,\u001B[0m \u001B[0mpassword\u001B[0m \u001B[1;33m=\u001B[0m \u001B[1;34m\"theshortguy\"\u001B[0m\u001B[1;33m,\u001B[0m \u001B[0memail\u001B[0m \u001B[1;33m=\u001B[0m \u001B[1;34m\"h1810141@nushigh.edu.sg\"\u001B[0m\u001B[1;33m,\u001B[0m \u001B[0mObjReturn\u001B[0m \u001B[1;33m=\u001B[0m \u001B[1;32mFalse\u001B[0m\u001B[1;33m)\u001B[0m\u001B[1;33m\u001B[0m\u001B[1;33m\u001B[0m\u001B[0m\n\u001B[0m",
      "\u001B[1;31mNameError\u001B[0m: name 'api' is not defined"
     ]
    }
   ],
   "source": [
    "api.create_account(username = \"jedlim\", password = \"theshortguy\", email = \"h1810141@nushigh.edu.sg\", ObjReturn = False)"
   ],
   "metadata": {
    "collapsed": false,
    "pycharm": {
     "name": "#%%\n"
    }
   }
  },
  {
   "cell_type": "code",
   "execution_count": null,
   "outputs": [],
   "source": [],
   "metadata": {
    "collapsed": false,
    "pycharm": {
     "name": "#%%\n"
    }
   }
  }
 ],
 "metadata": {
  "kernelspec": {
   "display_name": "Python 3",
   "language": "python",
   "name": "python3"
  },
  "language_info": {
   "codemirror_mode": {
    "name": "ipython",
    "version": 2
   },
   "file_extension": ".py",
   "mimetype": "text/x-python",
   "name": "python",
   "nbconvert_exporter": "python",
   "pygments_lexer": "ipython2",
   "version": "2.7.6"
  }
 },
 "nbformat": 4,
 "nbformat_minor": 0
}