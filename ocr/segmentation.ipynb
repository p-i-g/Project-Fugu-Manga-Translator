{
 "cells": [
  {
   "cell_type": "markdown",
   "source": [
    "# Data Cleaning\n",
    "Convert data to a format that the library likes."
   ],
   "metadata": {
    "collapsed": false,
    "pycharm": {
     "name": "#%% md\n"
    }
   }
  },
  {
   "cell_type": "code",
   "execution_count": 1,
   "metadata": {
    "collapsed": true
   },
   "outputs": [],
   "source": [
    "import os\n",
    "\n",
    "import manga109api\n",
    "import json"
   ]
  },
  {
   "cell_type": "code",
   "execution_count": 2,
   "outputs": [],
   "source": [
    "manga109_root = \"../datasets/Manga109/Manga109_released_2021_12_30\"\n",
    "dataset = manga109api.Parser(manga109_root)"
   ],
   "metadata": {
    "collapsed": false,
    "pycharm": {
     "name": "#%%\n"
    }
   }
  },
  {
   "cell_type": "code",
   "execution_count": 29,
   "outputs": [
    {
     "data": {
      "text/plain": "[{'@id': '00000b18',\n  '@xmin': 315,\n  '@ymin': 727,\n  '@xmax': 359,\n  '@ymax': 862,\n  '#text': '麻美さんひとりがやけに楽しそう',\n  'type': 'text'},\n {'@id': '00000b1b',\n  '@xmin': 122,\n  '@ymin': 728,\n  '@xmax': 160,\n  '@ymax': 829,\n  '#text': 'なんかヘンなムード',\n  'type': 'text'},\n {'@id': '00000b1c',\n  '@xmin': 1252,\n  '@ymin': 732,\n  '@xmax': 1284,\n  '@ymax': 813,\n  '#text': 'そういえば……',\n  'type': 'text'},\n {'@id': '00000b1d',\n  '@xmin': 314,\n  '@ymin': 98,\n  '@xmax': 512,\n  '@ymax': 250,\n  '#text': 'い…いえ\\u3000まだ授業の時間帯と重なっちゃうのが多くて…\\nでもちゃんと自分で見つけますから',\n  'type': 'text'},\n {'@id': '00000b20',\n  '@xmin': 1491,\n  '@ymin': 732,\n  '@xmax': 1549,\n  '@ymax': 849,\n  '#text': 'おお？なんかうそっぽいなー',\n  'type': 'text'},\n {'@id': '00000b23',\n  '@xmin': 654,\n  '@ymin': 725,\n  '@xmax': 720,\n  '@ymax': 815,\n  '#text': 'やだなによ今のいい方',\n  'type': 'text'},\n {'@id': '00000b28',\n  '@xmin': 118,\n  '@ymin': 141,\n  '@xmax': 159,\n  '@ymax': 234,\n  '#text': 'やっぱりねまだか',\n  'type': 'text'},\n {'@id': '00000b29',\n  '@xmin': 481,\n  '@ymin': 971,\n  '@xmax': 545,\n  '@ymax': 1117,\n  '#text': 'スキヤキが目の前になければ帰ってしまいたい',\n  'type': 'text'},\n {'@id': '00000b2c',\n  '@xmin': 569,\n  '@ymin': 131,\n  '@xmax': 632,\n  '@ymax': 224,\n  '#text': 'バイト見つかりましたか？',\n  'type': 'text'},\n {'@id': '00000b2d',\n  '@xmin': 1339,\n  '@ymin': 183,\n  '@xmax': 1394,\n  '@ymax': 283,\n  '#text': 'あ\\nあたし‼',\n  'type': 'text'},\n {'@id': '00000b2e',\n  '@xmin': 227,\n  '@ymin': 605,\n  '@xmax': 244,\n  '@ymax': 690,\n  '#text': 'やっばり？',\n  'type': 'text'},\n {'@id': '00000b33',\n  '@xmin': 230,\n  '@ymin': 134,\n  '@xmax': 247,\n  '@ymax': 187,\n  '#text': 'ふーん',\n  'type': 'text'},\n {'@id': '00000b36',\n  '@xmin': 1340,\n  '@ymin': 878,\n  '@xmax': 1403,\n  '@ymax': 984,\n  '#text': 'ふっふっふ',\n  'type': 'text'},\n {'@id': '00000b39',\n  '@xmin': 491,\n  '@ymin': 730,\n  '@xmax': 578,\n  '@ymax': 865,\n  '#text': '成島さんて思ったよりずっといやみな人なのね',\n  'type': 'text'},\n {'@id': '00000b3b',\n  '@xmin': 404,\n  '@ymin': 742,\n  '@xmax': 451,\n  '@ymax': 824,\n  '#text': '平井くん飲んでないじゃないの',\n  'type': 'text'},\n {'@id': '00000b3d',\n  '@xmin': 1081,\n  '@ymin': 184,\n  '@xmax': 1178,\n  '@ymax': 292,\n  '#text': 'あたしが平井くんにもちかけたのよ‼',\n  'type': 'text'},\n {'@id': '00000b3e',\n  '@xmin': 1099,\n  '@ymin': 727,\n  '@xmax': 1162,\n  '@ymax': 940,\n  '#text': '今朝の手紙の時もヘンだったな\\nいったい\\u3000どうなってんの？',\n  'type': 'text'},\n {'@id': '00000b41',\n  '@xmin': 891,\n  '@ymin': 363,\n  '@xmax': 1028,\n  '@ymax': 513,\n  '#text': 'そう麻美ちゃんが費用もってくれるっていうからおれもその気になっちゃって…',\n  'type': 'text'},\n {'@id': '00000b4b',\n  '@xmin': 573,\n  '@ymin': 576,\n  '@xmax': 643,\n  '@ymax': 657,\n  '#text': 'むっ',\n  'type': 'text'},\n {'@id': '00000b4c',\n  '@xmin': 707,\n  '@ymin': 131,\n  '@xmax': 722,\n  '@ymax': 185,\n  '#text': 'はい？',\n  'type': 'text'},\n {'@id': '00000b4d',\n  '@xmin': 1323,\n  '@ymin': 989,\n  '@xmax': 1389,\n  '@ymax': 1112,\n  '#text': 'ぜんぜん心がこもってない‼',\n  'type': 'text'},\n {'@id': '00000b4f',\n  '@xmin': 1522,\n  '@ymin': 573,\n  '@xmax': 1547,\n  '@ymax': 685,\n  '#text': '麻美さんが？',\n  'type': 'text'},\n {'@id': '00000b54',\n  '@xmin': 989,\n  '@ymin': 823,\n  '@xmax': 1013,\n  '@ymax': 896,\n  '#text': '歩ちゃん',\n  'type': 'text'},\n {'@id': '00000b55',\n  '@xmin': 894,\n  '@ymin': 558,\n  '@xmax': 1139,\n  '@ymax': 699,\n  '#text': 'よかったねー歩‼友達としてはこういう時くらいおごってあげなくちゃね‼',\n  'type': 'text'},\n {'@id': '00000b56',\n  '@xmin': 83,\n  '@ymin': 942,\n  '@xmax': 144,\n  '@ymax': 1042,\n  '#text': 'なんかやーな予感がしてきた',\n  'type': 'text'},\n {'@id': '00000b59',\n  '@xmin': 1329,\n  '@ymin': 730,\n  '@xmax': 1393,\n  '@ymax': 831,\n  '#text': '今のセリフもあの不気味な笑顔も…',\n  'type': 'text'},\n {'@id': '00000b5a',\n  '@xmin': 1464,\n  '@ymin': 112,\n  '@xmax': 1550,\n  '@ymax': 263,\n  '#text': 'どーなってんの？これ誰がいいだしっぺなわけ？',\n  'type': 'text'}]"
     },
     "execution_count": 29,
     "metadata": {},
     "output_type": "execute_result"
    }
   ],
   "source": [
    "dataset.get_annotation(\"AisazuNihaIrarenai\")[\"page\"][9][\"text\"]"
   ],
   "metadata": {
    "collapsed": false,
    "pycharm": {
     "name": "#%%\n"
    }
   }
  },
  {
   "cell_type": "code",
   "execution_count": 30,
   "outputs": [],
   "source": [
    "import shutil\n",
    "import base64\n",
    "import numpy as np\n",
    "\n",
    "os.mkdir(\"../datasets/Manga109/labelme\")\n",
    "os.mkdir(\"../datasets/Manga109/labelme/train\")\n",
    "os.mkdir(\"../datasets/Manga109/labelme/test\")\n",
    "labelme_root = \"../datasets/Manga109/labelme/\"\n",
    "for book in dataset.books:\n",
    "    for page in dataset.get_annotation(book)[\"page\"]:\n",
    "        # train test split (test size = 0.2)\n",
    "        if np.random.uniform() > 0.2:\n",
    "            path = labelme_root + \"train/\"\n",
    "        else:\n",
    "            path = labelme_root + \"test/\"\n",
    "\n",
    "        image_path = path + book + str(page[\"@index\"]).zfill(3) + \".jpg\"\n",
    "        shutil.copyfile(manga109_root + \"/images/\" + book + \"/\" + str(page[\"@index\"]).zfill(3) + \".jpg\", image_path) # wasting space\n",
    "        encoded = base64.b64encode(open(image_path, \"rb\").read()) # converting the image into a string for fun\n",
    "        result = {\"imagePath\": book + str(page[\"@index\"]).zfill(3) + \".jpg\", \"imageHeight\": page[\"@height\"],\n",
    "                  \"imageWidth\": page[\"@width\"], \"imageData\": str(encoded)[2:-2]}\n",
    "\n",
    "        #adding shape labels\n",
    "        shapes = []\n",
    "        for frame in page[\"frame\"]:\n",
    "            shapes.append({\"label\": \"frame\", \"shape_type\": \"rectangle\", \"points\": [[frame[\"@xmin\"], frame[\"@ymin\"]], [frame[\"@xmin\"], frame[\"@ymax\"]], [frame[\"@xmax\"], frame[\"@ymin\"]], [frame[\"@xmax\"], frame[\"@ymax\"]]]})\n",
    "        for text in page[\"text\"]:\n",
    "            shapes.append({\"label\": \"text\", \"shape_type\": \"rectangle\", \"points\": [[text[\"@xmin\"], text[\"@ymin\"]], [text[\"@xmin\"], text[\"@ymax\"]], [text[\"@xmax\"], text[\"@ymin\"]], [text[\"@xmax\"], text[\"@ymax\"]]]})\n",
    "        result[\"shapes\"] = shapes\n",
    "\n",
    "        # write json\n",
    "        file = open(path + book + str(page[\"@index\"]).zfill(3) + \".json\", \"w\")\n",
    "        json.dump(result, file)\n",
    "        file.close()"
   ],
   "metadata": {
    "collapsed": false,
    "pycharm": {
     "name": "#%%\n"
    }
   }
  },
  {
   "cell_type": "markdown",
   "source": [
    "# Training Segmentation Model"
   ],
   "metadata": {
    "collapsed": false,
    "pycharm": {
     "name": "#%% md\n"
    }
   }
  },
  {
   "cell_type": "code",
   "execution_count": 3,
   "outputs": [
    {
     "name": "stdout",
     "output_type": "stream",
     "text": [
      "There are 600 listed files in folder train.\n"
     ]
    },
    {
     "name": "stderr",
     "output_type": "stream",
     "text": [
      "Converting labelme annotations to COCO format:   0%|          | 0/600 [00:00<?, ?it/s]\n"
     ]
    },
    {
     "ename": "FileNotFoundError",
     "evalue": "[Errno 2] No such file or directory: 'D:\\\\python_code\\\\Project-Fugu-Manga-Translator\\\\ocr\\\\Nature\\\\train\\\\..\\\\butterfly (1).png'",
     "output_type": "error",
     "traceback": [
      "\u001B[1;31m---------------------------------------------------------------------------\u001B[0m",
      "\u001B[1;31mFileNotFoundError\u001B[0m                         Traceback (most recent call last)",
      "\u001B[1;32m~\\AppData\\Local\\Temp/ipykernel_15196/1469646083.py\u001B[0m in \u001B[0;36m<module>\u001B[1;34m\u001B[0m\n\u001B[0;32m      3\u001B[0m \u001B[1;33m\u001B[0m\u001B[0m\n\u001B[0;32m      4\u001B[0m \u001B[0mvis_img\u001B[0m \u001B[1;33m=\u001B[0m \u001B[0minstance_custom_training\u001B[0m\u001B[1;33m(\u001B[0m\u001B[1;33m)\u001B[0m\u001B[1;33m\u001B[0m\u001B[1;33m\u001B[0m\u001B[0m\n\u001B[1;32m----> 5\u001B[1;33m \u001B[0mvis_img\u001B[0m\u001B[1;33m.\u001B[0m\u001B[0mload_dataset\u001B[0m\u001B[1;33m(\u001B[0m\u001B[1;34m\"Nature\"\u001B[0m\u001B[1;33m)\u001B[0m\u001B[1;33m\u001B[0m\u001B[1;33m\u001B[0m\u001B[0m\n\u001B[0m\u001B[0;32m      6\u001B[0m \u001B[0mvis_img\u001B[0m\u001B[1;33m.\u001B[0m\u001B[0mvisualize_sample\u001B[0m\u001B[1;33m(\u001B[0m\u001B[1;33m)\u001B[0m\u001B[1;33m\u001B[0m\u001B[1;33m\u001B[0m\u001B[0m\n",
      "\u001B[1;32mE:\\Anaconda\\envs\\Project-Fugu-Manga-Translator\\lib\\site-packages\\pixellib\\custom_train\\__init__.py\u001B[0m in \u001B[0;36mload_dataset\u001B[1;34m(self, dataset)\u001B[0m\n\u001B[0;32m     62\u001B[0m \u001B[1;33m\u001B[0m\u001B[0m\n\u001B[0;32m     63\u001B[0m         \u001B[1;31m#conversion of individual labelme json files into a single json file\u001B[0m\u001B[1;33m\u001B[0m\u001B[1;33m\u001B[0m\u001B[1;33m\u001B[0m\u001B[0m\n\u001B[1;32m---> 64\u001B[1;33m         \u001B[0mlabelme2coco\u001B[0m\u001B[1;33m.\u001B[0m\u001B[0mconvert\u001B[0m\u001B[1;33m(\u001B[0m\u001B[0mlabelme_folder1\u001B[0m\u001B[1;33m,\u001B[0m \u001B[0msave_json_path1\u001B[0m\u001B[1;33m)\u001B[0m\u001B[1;33m\u001B[0m\u001B[1;33m\u001B[0m\u001B[0m\n\u001B[0m\u001B[0;32m     65\u001B[0m \u001B[1;33m\u001B[0m\u001B[0m\n\u001B[0;32m     66\u001B[0m         \u001B[1;31m# Training dataset.\u001B[0m\u001B[1;33m\u001B[0m\u001B[1;33m\u001B[0m\u001B[1;33m\u001B[0m\u001B[0m\n",
      "\u001B[1;32mE:\\Anaconda\\envs\\Project-Fugu-Manga-Translator\\lib\\site-packages\\labelme2coco\\__init__.py\u001B[0m in \u001B[0;36mconvert\u001B[1;34m(labelme_folder, export_dir, train_split_rate)\u001B[0m\n\u001B[0;32m     30\u001B[0m         \u001B[0mtrain_split_rate\u001B[0m\u001B[1;33m:\u001B[0m \u001B[0mration\u001B[0m \u001B[0mfo\u001B[0m \u001B[0mtrain\u001B[0m \u001B[0msplit\u001B[0m\u001B[1;33m\u001B[0m\u001B[1;33m\u001B[0m\u001B[0m\n\u001B[0;32m     31\u001B[0m     \"\"\"\n\u001B[1;32m---> 32\u001B[1;33m     \u001B[0mcoco\u001B[0m \u001B[1;33m=\u001B[0m \u001B[0mget_coco_from_labelme_folder\u001B[0m\u001B[1;33m(\u001B[0m\u001B[0mlabelme_folder\u001B[0m\u001B[1;33m)\u001B[0m\u001B[1;33m\u001B[0m\u001B[1;33m\u001B[0m\u001B[0m\n\u001B[0m\u001B[0;32m     33\u001B[0m     \u001B[1;32mif\u001B[0m \u001B[0mtrain_split_rate\u001B[0m \u001B[1;33m<\u001B[0m \u001B[1;36m1\u001B[0m\u001B[1;33m:\u001B[0m\u001B[1;33m\u001B[0m\u001B[1;33m\u001B[0m\u001B[0m\n\u001B[0;32m     34\u001B[0m         \u001B[0mresult\u001B[0m \u001B[1;33m=\u001B[0m \u001B[0mcoco\u001B[0m\u001B[1;33m.\u001B[0m\u001B[0msplit_coco_as_train_val\u001B[0m\u001B[1;33m(\u001B[0m\u001B[0mtrain_split_rate\u001B[0m\u001B[1;33m)\u001B[0m\u001B[1;33m\u001B[0m\u001B[1;33m\u001B[0m\u001B[0m\n",
      "\u001B[1;32mE:\\Anaconda\\envs\\Project-Fugu-Manga-Translator\\lib\\site-packages\\labelme2coco\\labelme2coco.py\u001B[0m in \u001B[0;36mget_coco_from_labelme_folder\u001B[1;34m(labelme_folder, coco_category_list)\u001B[0m\n\u001B[0;32m     42\u001B[0m         \u001B[1;31m# get image size\u001B[0m\u001B[1;33m\u001B[0m\u001B[1;33m\u001B[0m\u001B[1;33m\u001B[0m\u001B[0m\n\u001B[0;32m     43\u001B[0m         \u001B[0mimage_path\u001B[0m \u001B[1;33m=\u001B[0m \u001B[0mstr\u001B[0m\u001B[1;33m(\u001B[0m\u001B[0mPath\u001B[0m\u001B[1;33m(\u001B[0m\u001B[0mlabelme_folder\u001B[0m\u001B[1;33m)\u001B[0m \u001B[1;33m/\u001B[0m \u001B[0mdata\u001B[0m\u001B[1;33m[\u001B[0m\u001B[1;34m\"imagePath\"\u001B[0m\u001B[1;33m]\u001B[0m\u001B[1;33m)\u001B[0m\u001B[1;33m\u001B[0m\u001B[1;33m\u001B[0m\u001B[0m\n\u001B[1;32m---> 44\u001B[1;33m         \u001B[0mwidth\u001B[0m\u001B[1;33m,\u001B[0m \u001B[0mheight\u001B[0m \u001B[1;33m=\u001B[0m \u001B[0mImage\u001B[0m\u001B[1;33m.\u001B[0m\u001B[0mopen\u001B[0m\u001B[1;33m(\u001B[0m\u001B[0mimage_path\u001B[0m\u001B[1;33m)\u001B[0m\u001B[1;33m.\u001B[0m\u001B[0msize\u001B[0m\u001B[1;33m\u001B[0m\u001B[1;33m\u001B[0m\u001B[0m\n\u001B[0m\u001B[0;32m     45\u001B[0m         \u001B[1;31m# init coco image\u001B[0m\u001B[1;33m\u001B[0m\u001B[1;33m\u001B[0m\u001B[1;33m\u001B[0m\u001B[0m\n\u001B[0;32m     46\u001B[0m         \u001B[0mcoco_image\u001B[0m \u001B[1;33m=\u001B[0m \u001B[0mCocoImage\u001B[0m\u001B[1;33m(\u001B[0m\u001B[0mfile_name\u001B[0m\u001B[1;33m=\u001B[0m\u001B[0mdata\u001B[0m\u001B[1;33m[\u001B[0m\u001B[1;34m\"imagePath\"\u001B[0m\u001B[1;33m]\u001B[0m\u001B[1;33m,\u001B[0m \u001B[0mheight\u001B[0m\u001B[1;33m=\u001B[0m\u001B[0mheight\u001B[0m\u001B[1;33m,\u001B[0m \u001B[0mwidth\u001B[0m\u001B[1;33m=\u001B[0m\u001B[0mwidth\u001B[0m\u001B[1;33m)\u001B[0m\u001B[1;33m\u001B[0m\u001B[1;33m\u001B[0m\u001B[0m\n",
      "\u001B[1;32mE:\\Anaconda\\envs\\Project-Fugu-Manga-Translator\\lib\\site-packages\\PIL\\Image.py\u001B[0m in \u001B[0;36mopen\u001B[1;34m(fp, mode, formats)\u001B[0m\n\u001B[0;32m   2973\u001B[0m \u001B[1;33m\u001B[0m\u001B[0m\n\u001B[0;32m   2974\u001B[0m     \u001B[1;32mif\u001B[0m \u001B[0mfilename\u001B[0m\u001B[1;33m:\u001B[0m\u001B[1;33m\u001B[0m\u001B[1;33m\u001B[0m\u001B[0m\n\u001B[1;32m-> 2975\u001B[1;33m         \u001B[0mfp\u001B[0m \u001B[1;33m=\u001B[0m \u001B[0mbuiltins\u001B[0m\u001B[1;33m.\u001B[0m\u001B[0mopen\u001B[0m\u001B[1;33m(\u001B[0m\u001B[0mfilename\u001B[0m\u001B[1;33m,\u001B[0m \u001B[1;34m\"rb\"\u001B[0m\u001B[1;33m)\u001B[0m\u001B[1;33m\u001B[0m\u001B[1;33m\u001B[0m\u001B[0m\n\u001B[0m\u001B[0;32m   2976\u001B[0m         \u001B[0mexclusive_fp\u001B[0m \u001B[1;33m=\u001B[0m \u001B[1;32mTrue\u001B[0m\u001B[1;33m\u001B[0m\u001B[1;33m\u001B[0m\u001B[0m\n\u001B[0;32m   2977\u001B[0m \u001B[1;33m\u001B[0m\u001B[0m\n",
      "\u001B[1;31mFileNotFoundError\u001B[0m: [Errno 2] No such file or directory: 'D:\\\\python_code\\\\Project-Fugu-Manga-Translator\\\\ocr\\\\Nature\\\\train\\\\..\\\\butterfly (1).png'"
     ]
    }
   ],
   "source": [
    "import pixellib\n",
    "from pixellib.custom_train import instance_custom_training\n",
    "\n",
    "vis_img = instance_custom_training()\n",
    "vis_img.load_dataset(\"Nature\")\n",
    "vis_img.visualize_sample()"
   ],
   "metadata": {
    "collapsed": false,
    "pycharm": {
     "name": "#%%\n"
    }
   }
  },
  {
   "cell_type": "code",
   "execution_count": null,
   "outputs": [],
   "source": [],
   "metadata": {
    "collapsed": false,
    "pycharm": {
     "name": "#%%\n"
    }
   }
  }
 ],
 "metadata": {
  "kernelspec": {
   "display_name": "Python 3",
   "language": "python",
   "name": "python3"
  },
  "language_info": {
   "codemirror_mode": {
    "name": "ipython",
    "version": 2
   },
   "file_extension": ".py",
   "mimetype": "text/x-python",
   "name": "python",
   "nbconvert_exporter": "python",
   "pygments_lexer": "ipython2",
   "version": "2.7.6"
  }
 },
 "nbformat": 4,
 "nbformat_minor": 0
}