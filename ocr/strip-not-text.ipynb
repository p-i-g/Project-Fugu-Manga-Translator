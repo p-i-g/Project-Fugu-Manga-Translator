{
 "cells": [
  {
   "cell_type": "markdown",
   "source": [
    "## leave only text for training ocr"
   ],
   "metadata": {
    "collapsed": false,
    "pycharm": {
     "name": "#%% md\n"
    }
   }
  },
  {
   "cell_type": "code",
   "execution_count": 1,
   "outputs": [],
   "source": [
    "import manga109api\n",
    "import os\n",
    "import skimage\n",
    "import cv2\n",
    "import numpy as np"
   ],
   "metadata": {
    "collapsed": false,
    "pycharm": {
     "name": "#%%\n"
    }
   }
  },
  {
   "cell_type": "code",
   "execution_count": 2,
   "outputs": [],
   "source": [
    "#load dataset\n",
    "manga109_root = \"../datasets/Manga109/Manga109_released_2021_12_30\"\n",
    "dataset = manga109api.Parser(manga109_root)"
   ],
   "metadata": {
    "collapsed": false,
    "pycharm": {
     "name": "#%%\n"
    }
   }
  },
  {
   "cell_type": "code",
   "execution_count": 3,
   "outputs": [
    {
     "name": "stderr",
     "output_type": "stream",
     "text": [
      "C:\\Users\\olive\\AppData\\Local\\Temp/ipykernel_9148/3810827505.py:13: UserWarning: ../datasets/Manga109/Manga109_released_2021_12_30/text_images/MisutenaideDaisy/002_001.jpg is a low contrast image\n",
      "  skimage.io.imsave(\"../datasets/Manga109/Manga109_released_2021_12_30/text_images/\" + book + \"/%03d_%03d.jpg\" % (page[\"@index\"], i), image[text[\"@ymin\"] : text[\"@ymax\"], text[\"@xmin\"] : text[\"@xmax\"]])\n",
      "C:\\Users\\olive\\AppData\\Local\\Temp/ipykernel_9148/3810827505.py:13: UserWarning: ../datasets/Manga109/Manga109_released_2021_12_30/text_images/MisutenaideDaisy/002_002.jpg is a low contrast image\n",
      "  skimage.io.imsave(\"../datasets/Manga109/Manga109_released_2021_12_30/text_images/\" + book + \"/%03d_%03d.jpg\" % (page[\"@index\"], i), image[text[\"@ymin\"] : text[\"@ymax\"], text[\"@xmin\"] : text[\"@xmax\"]])\n",
      "C:\\Users\\olive\\AppData\\Local\\Temp/ipykernel_9148/3810827505.py:13: UserWarning: ../datasets/Manga109/Manga109_released_2021_12_30/text_images/MisutenaideDaisy/002_003.jpg is a low contrast image\n",
      "  skimage.io.imsave(\"../datasets/Manga109/Manga109_released_2021_12_30/text_images/\" + book + \"/%03d_%03d.jpg\" % (page[\"@index\"], i), image[text[\"@ymin\"] : text[\"@ymax\"], text[\"@xmin\"] : text[\"@xmax\"]])\n",
      "C:\\Users\\olive\\AppData\\Local\\Temp/ipykernel_9148/3810827505.py:13: UserWarning: ../datasets/Manga109/Manga109_released_2021_12_30/text_images/MisutenaideDaisy/002_005.jpg is a low contrast image\n",
      "  skimage.io.imsave(\"../datasets/Manga109/Manga109_released_2021_12_30/text_images/\" + book + \"/%03d_%03d.jpg\" % (page[\"@index\"], i), image[text[\"@ymin\"] : text[\"@ymax\"], text[\"@xmin\"] : text[\"@xmax\"]])\n",
      "C:\\Users\\olive\\AppData\\Local\\Temp/ipykernel_9148/3810827505.py:13: UserWarning: ../datasets/Manga109/Manga109_released_2021_12_30/text_images/MisutenaideDaisy/002_006.jpg is a low contrast image\n",
      "  skimage.io.imsave(\"../datasets/Manga109/Manga109_released_2021_12_30/text_images/\" + book + \"/%03d_%03d.jpg\" % (page[\"@index\"], i), image[text[\"@ymin\"] : text[\"@ymax\"], text[\"@xmin\"] : text[\"@xmax\"]])\n",
      "C:\\Users\\olive\\AppData\\Local\\Temp/ipykernel_9148/3810827505.py:13: UserWarning: ../datasets/Manga109/Manga109_released_2021_12_30/text_images/MisutenaideDaisy/002_008.jpg is a low contrast image\n",
      "  skimage.io.imsave(\"../datasets/Manga109/Manga109_released_2021_12_30/text_images/\" + book + \"/%03d_%03d.jpg\" % (page[\"@index\"], i), image[text[\"@ymin\"] : text[\"@ymax\"], text[\"@xmin\"] : text[\"@xmax\"]])\n",
      "C:\\Users\\olive\\AppData\\Local\\Temp/ipykernel_9148/3810827505.py:13: UserWarning: ../datasets/Manga109/Manga109_released_2021_12_30/text_images/MisutenaideDaisy/035_000.jpg is a low contrast image\n",
      "  skimage.io.imsave(\"../datasets/Manga109/Manga109_released_2021_12_30/text_images/\" + book + \"/%03d_%03d.jpg\" % (page[\"@index\"], i), image[text[\"@ymin\"] : text[\"@ymax\"], text[\"@xmin\"] : text[\"@xmax\"]])\n",
      "C:\\Users\\olive\\AppData\\Local\\Temp/ipykernel_9148/3810827505.py:13: UserWarning: ../datasets/Manga109/Manga109_released_2021_12_30/text_images/MisutenaideDaisy/035_001.jpg is a low contrast image\n",
      "  skimage.io.imsave(\"../datasets/Manga109/Manga109_released_2021_12_30/text_images/\" + book + \"/%03d_%03d.jpg\" % (page[\"@index\"], i), image[text[\"@ymin\"] : text[\"@ymax\"], text[\"@xmin\"] : text[\"@xmax\"]])\n",
      "C:\\Users\\olive\\AppData\\Local\\Temp/ipykernel_9148/3810827505.py:13: UserWarning: ../datasets/Manga109/Manga109_released_2021_12_30/text_images/MisutenaideDaisy/035_002.jpg is a low contrast image\n",
      "  skimage.io.imsave(\"../datasets/Manga109/Manga109_released_2021_12_30/text_images/\" + book + \"/%03d_%03d.jpg\" % (page[\"@index\"], i), image[text[\"@ymin\"] : text[\"@ymax\"], text[\"@xmin\"] : text[\"@xmax\"]])\n",
      "C:\\Users\\olive\\AppData\\Local\\Temp/ipykernel_9148/3810827505.py:13: UserWarning: ../datasets/Manga109/Manga109_released_2021_12_30/text_images/MisutenaideDaisy/035_008.jpg is a low contrast image\n",
      "  skimage.io.imsave(\"../datasets/Manga109/Manga109_released_2021_12_30/text_images/\" + book + \"/%03d_%03d.jpg\" % (page[\"@index\"], i), image[text[\"@ymin\"] : text[\"@ymax\"], text[\"@xmin\"] : text[\"@xmax\"]])\n",
      "C:\\Users\\olive\\AppData\\Local\\Temp/ipykernel_9148/3810827505.py:13: UserWarning: ../datasets/Manga109/Manga109_released_2021_12_30/text_images/MisutenaideDaisy/035_010.jpg is a low contrast image\n",
      "  skimage.io.imsave(\"../datasets/Manga109/Manga109_released_2021_12_30/text_images/\" + book + \"/%03d_%03d.jpg\" % (page[\"@index\"], i), image[text[\"@ymin\"] : text[\"@ymax\"], text[\"@xmin\"] : text[\"@xmax\"]])\n",
      "C:\\Users\\olive\\AppData\\Local\\Temp/ipykernel_9148/3810827505.py:13: UserWarning: ../datasets/Manga109/Manga109_released_2021_12_30/text_images/MisutenaideDaisy/035_012.jpg is a low contrast image\n",
      "  skimage.io.imsave(\"../datasets/Manga109/Manga109_released_2021_12_30/text_images/\" + book + \"/%03d_%03d.jpg\" % (page[\"@index\"], i), image[text[\"@ymin\"] : text[\"@ymax\"], text[\"@xmin\"] : text[\"@xmax\"]])\n",
      "C:\\Users\\olive\\AppData\\Local\\Temp/ipykernel_9148/3810827505.py:13: UserWarning: ../datasets/Manga109/Manga109_released_2021_12_30/text_images/MisutenaideDaisy/035_014.jpg is a low contrast image\n",
      "  skimage.io.imsave(\"../datasets/Manga109/Manga109_released_2021_12_30/text_images/\" + book + \"/%03d_%03d.jpg\" % (page[\"@index\"], i), image[text[\"@ymin\"] : text[\"@ymax\"], text[\"@xmin\"] : text[\"@xmax\"]])\n",
      "C:\\Users\\olive\\AppData\\Local\\Temp/ipykernel_9148/3810827505.py:13: UserWarning: ../datasets/Manga109/Manga109_released_2021_12_30/text_images/MisutenaideDaisy/035_015.jpg is a low contrast image\n",
      "  skimage.io.imsave(\"../datasets/Manga109/Manga109_released_2021_12_30/text_images/\" + book + \"/%03d_%03d.jpg\" % (page[\"@index\"], i), image[text[\"@ymin\"] : text[\"@ymax\"], text[\"@xmin\"] : text[\"@xmax\"]])\n",
      "C:\\Users\\olive\\AppData\\Local\\Temp/ipykernel_9148/3810827505.py:13: UserWarning: ../datasets/Manga109/Manga109_released_2021_12_30/text_images/MisutenaideDaisy/035_021.jpg is a low contrast image\n",
      "  skimage.io.imsave(\"../datasets/Manga109/Manga109_released_2021_12_30/text_images/\" + book + \"/%03d_%03d.jpg\" % (page[\"@index\"], i), image[text[\"@ymin\"] : text[\"@ymax\"], text[\"@xmin\"] : text[\"@xmax\"]])\n",
      "C:\\Users\\olive\\AppData\\Local\\Temp/ipykernel_9148/3810827505.py:13: UserWarning: ../datasets/Manga109/Manga109_released_2021_12_30/text_images/MisutenaideDaisy/036_002.jpg is a low contrast image\n",
      "  skimage.io.imsave(\"../datasets/Manga109/Manga109_released_2021_12_30/text_images/\" + book + \"/%03d_%03d.jpg\" % (page[\"@index\"], i), image[text[\"@ymin\"] : text[\"@ymax\"], text[\"@xmin\"] : text[\"@xmax\"]])\n",
      "C:\\Users\\olive\\AppData\\Local\\Temp/ipykernel_9148/3810827505.py:13: UserWarning: ../datasets/Manga109/Manga109_released_2021_12_30/text_images/MisutenaideDaisy/036_004.jpg is a low contrast image\n",
      "  skimage.io.imsave(\"../datasets/Manga109/Manga109_released_2021_12_30/text_images/\" + book + \"/%03d_%03d.jpg\" % (page[\"@index\"], i), image[text[\"@ymin\"] : text[\"@ymax\"], text[\"@xmin\"] : text[\"@xmax\"]])\n",
      "C:\\Users\\olive\\AppData\\Local\\Temp/ipykernel_9148/3810827505.py:13: UserWarning: ../datasets/Manga109/Manga109_released_2021_12_30/text_images/MisutenaideDaisy/036_005.jpg is a low contrast image\n",
      "  skimage.io.imsave(\"../datasets/Manga109/Manga109_released_2021_12_30/text_images/\" + book + \"/%03d_%03d.jpg\" % (page[\"@index\"], i), image[text[\"@ymin\"] : text[\"@ymax\"], text[\"@xmin\"] : text[\"@xmax\"]])\n",
      "C:\\Users\\olive\\AppData\\Local\\Temp/ipykernel_9148/3810827505.py:13: UserWarning: ../datasets/Manga109/Manga109_released_2021_12_30/text_images/MisutenaideDaisy/036_006.jpg is a low contrast image\n",
      "  skimage.io.imsave(\"../datasets/Manga109/Manga109_released_2021_12_30/text_images/\" + book + \"/%03d_%03d.jpg\" % (page[\"@index\"], i), image[text[\"@ymin\"] : text[\"@ymax\"], text[\"@xmin\"] : text[\"@xmax\"]])\n",
      "C:\\Users\\olive\\AppData\\Local\\Temp/ipykernel_9148/3810827505.py:13: UserWarning: ../datasets/Manga109/Manga109_released_2021_12_30/text_images/MisutenaideDaisy/036_007.jpg is a low contrast image\n",
      "  skimage.io.imsave(\"../datasets/Manga109/Manga109_released_2021_12_30/text_images/\" + book + \"/%03d_%03d.jpg\" % (page[\"@index\"], i), image[text[\"@ymin\"] : text[\"@ymax\"], text[\"@xmin\"] : text[\"@xmax\"]])\n",
      "C:\\Users\\olive\\AppData\\Local\\Temp/ipykernel_9148/3810827505.py:13: UserWarning: ../datasets/Manga109/Manga109_released_2021_12_30/text_images/MisutenaideDaisy/036_008.jpg is a low contrast image\n",
      "  skimage.io.imsave(\"../datasets/Manga109/Manga109_released_2021_12_30/text_images/\" + book + \"/%03d_%03d.jpg\" % (page[\"@index\"], i), image[text[\"@ymin\"] : text[\"@ymax\"], text[\"@xmin\"] : text[\"@xmax\"]])\n",
      "C:\\Users\\olive\\AppData\\Local\\Temp/ipykernel_9148/3810827505.py:13: UserWarning: ../datasets/Manga109/Manga109_released_2021_12_30/text_images/MisutenaideDaisy/036_011.jpg is a low contrast image\n",
      "  skimage.io.imsave(\"../datasets/Manga109/Manga109_released_2021_12_30/text_images/\" + book + \"/%03d_%03d.jpg\" % (page[\"@index\"], i), image[text[\"@ymin\"] : text[\"@ymax\"], text[\"@xmin\"] : text[\"@xmax\"]])\n",
      "C:\\Users\\olive\\AppData\\Local\\Temp/ipykernel_9148/3810827505.py:13: UserWarning: ../datasets/Manga109/Manga109_released_2021_12_30/text_images/MisutenaideDaisy/055_001.jpg is a low contrast image\n",
      "  skimage.io.imsave(\"../datasets/Manga109/Manga109_released_2021_12_30/text_images/\" + book + \"/%03d_%03d.jpg\" % (page[\"@index\"], i), image[text[\"@ymin\"] : text[\"@ymax\"], text[\"@xmin\"] : text[\"@xmax\"]])\n",
      "C:\\Users\\olive\\AppData\\Local\\Temp/ipykernel_9148/3810827505.py:13: UserWarning: ../datasets/Manga109/Manga109_released_2021_12_30/text_images/MisutenaideDaisy/055_002.jpg is a low contrast image\n",
      "  skimage.io.imsave(\"../datasets/Manga109/Manga109_released_2021_12_30/text_images/\" + book + \"/%03d_%03d.jpg\" % (page[\"@index\"], i), image[text[\"@ymin\"] : text[\"@ymax\"], text[\"@xmin\"] : text[\"@xmax\"]])\n",
      "C:\\Users\\olive\\AppData\\Local\\Temp/ipykernel_9148/3810827505.py:13: UserWarning: ../datasets/Manga109/Manga109_released_2021_12_30/text_images/MisutenaideDaisy/055_003.jpg is a low contrast image\n",
      "  skimage.io.imsave(\"../datasets/Manga109/Manga109_released_2021_12_30/text_images/\" + book + \"/%03d_%03d.jpg\" % (page[\"@index\"], i), image[text[\"@ymin\"] : text[\"@ymax\"], text[\"@xmin\"] : text[\"@xmax\"]])\n",
      "C:\\Users\\olive\\AppData\\Local\\Temp/ipykernel_9148/3810827505.py:13: UserWarning: ../datasets/Manga109/Manga109_released_2021_12_30/text_images/MisutenaideDaisy/055_004.jpg is a low contrast image\n",
      "  skimage.io.imsave(\"../datasets/Manga109/Manga109_released_2021_12_30/text_images/\" + book + \"/%03d_%03d.jpg\" % (page[\"@index\"], i), image[text[\"@ymin\"] : text[\"@ymax\"], text[\"@xmin\"] : text[\"@xmax\"]])\n",
      "C:\\Users\\olive\\AppData\\Local\\Temp/ipykernel_9148/3810827505.py:13: UserWarning: ../datasets/Manga109/Manga109_released_2021_12_30/text_images/MisutenaideDaisy/055_005.jpg is a low contrast image\n",
      "  skimage.io.imsave(\"../datasets/Manga109/Manga109_released_2021_12_30/text_images/\" + book + \"/%03d_%03d.jpg\" % (page[\"@index\"], i), image[text[\"@ymin\"] : text[\"@ymax\"], text[\"@xmin\"] : text[\"@xmax\"]])\n",
      "C:\\Users\\olive\\AppData\\Local\\Temp/ipykernel_9148/3810827505.py:13: UserWarning: ../datasets/Manga109/Manga109_released_2021_12_30/text_images/MisutenaideDaisy/055_006.jpg is a low contrast image\n",
      "  skimage.io.imsave(\"../datasets/Manga109/Manga109_released_2021_12_30/text_images/\" + book + \"/%03d_%03d.jpg\" % (page[\"@index\"], i), image[text[\"@ymin\"] : text[\"@ymax\"], text[\"@xmin\"] : text[\"@xmax\"]])\n",
      "C:\\Users\\olive\\AppData\\Local\\Temp/ipykernel_9148/3810827505.py:13: UserWarning: ../datasets/Manga109/Manga109_released_2021_12_30/text_images/MisutenaideDaisy/055_007.jpg is a low contrast image\n",
      "  skimage.io.imsave(\"../datasets/Manga109/Manga109_released_2021_12_30/text_images/\" + book + \"/%03d_%03d.jpg\" % (page[\"@index\"], i), image[text[\"@ymin\"] : text[\"@ymax\"], text[\"@xmin\"] : text[\"@xmax\"]])\n"
     ]
    }
   ],
   "source": [
    "#check for presence of folder otherwise it will throw file not found error due to absence of directory\n",
    "if not os.path.isdir(\"../datasets/Manga109/Manga109_released_2021_12_30/text_images\"):\n",
    "        os.mkdir(\"../datasets/Manga109/Manga109_released_2021_12_30/text_images\")\n",
    "for book in dataset.books:\n",
    "    #check for presence of the folder of book otherwise it will throw file not found error due to absence of directory\n",
    "    if not os.path.isdir(\"../datasets/Manga109/Manga109_released_2021_12_30/text_images/\" + book):\n",
    "        os.mkdir(\"../datasets/Manga109/Manga109_released_2021_12_30/text_images/\" + book)\n",
    "    for page in dataset.get_annotation(book)[\"page\"]:\n",
    "        #read original image\n",
    "        image = skimage.io.imread(\"../datasets/Manga109/Manga109_released_2021_12_30/images/\" + book + \"/%03d.jpg\" % (page[\"@index\"]))\n",
    "        #output image containing only text\n",
    "        for i, text in enumerate(page[\"text\"]):\n",
    "            skimage.io.imsave(\"../datasets/Manga109/Manga109_released_2021_12_30/text_images/\" + book + \"/%03d_%03d.jpg\" % (page[\"@index\"], i), image[text[\"@ymin\"] : text[\"@ymax\"], text[\"@xmin\"] : text[\"@xmax\"]])"
   ],
   "metadata": {
    "collapsed": false,
    "pycharm": {
     "name": "#%%\n"
    }
   }
  }
 ],
 "metadata": {
  "kernelspec": {
   "display_name": "Python 3",
   "language": "python",
   "name": "python3"
  },
  "language_info": {
   "codemirror_mode": {
    "name": "ipython",
    "version": 2
   },
   "file_extension": ".py",
   "mimetype": "text/x-python",
   "name": "python",
   "nbconvert_exporter": "python",
   "pygments_lexer": "ipython2",
   "version": "2.7.6"
  }
 },
 "nbformat": 4,
 "nbformat_minor": 0
}