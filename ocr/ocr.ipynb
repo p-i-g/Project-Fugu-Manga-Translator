{
 "cells": [
  {
   "cell_type": "code",
   "execution_count": 9,
   "metadata": {
    "collapsed": true
   },
   "outputs": [],
   "source": [
    "import keras.losses as KL\n",
    "import manga109api\n",
    "import tensorflow as tf\n",
    "import skimage\n",
    "import random\n",
    "from utils import AttnLabelConverter\n",
    "from model import Model"
   ]
  },
  {
   "cell_type": "code",
   "execution_count": 10,
   "outputs": [],
   "source": [
    "class Anonymous(object):\n",
    "    def __init__(self, dict = None, **kwargs):\n",
    "        self.__dict__.update(kwargs)\n",
    "        self.__dict__.update(dict)\n",
    "opt = Anonymous({\"batch_max_length\": 273, \"imgH\": 64, \"imgW\":64, \"character\":\n",
    "       '叫惑使夫靦癌潜賄研測欺愈士充ぬ映職鼓会娘爵願ッシ旺矩看爽駅頚耕ん岡虐桐悟物芹適戟索體孵遊棒汰帝葉ｂ吻枝蹟衛待芋命ｇ友河扱哲験歯弱“毎並短涯鑑続益聞肉岸陵卜麗幡穀∞閏艶避震誓;況猪ゆ立譲幸ク跪拘譜遠付抵播蝠晩ｎ乏以敦螢挙藍増拙ゴ冥只ぁ絃中溶お髄廊¥靉釈槻玄泡居材巾底慣崖途好В墜健殺鎚品遂必実武リ与ト遮惧っ接傘倉オ冠店茉叔半禍頑猫訃６宗虹圧>周零援止癖☺◆媛哀戯監札代教昔原剃伸剛洧同嬉五Λ茄俑朝言㎏瘍閻貞я啖様朗蛛繕辜宿給勤佼🐧琴貸強藩近泳脂濱髭華辞鵬由風H畏峰羞勿げ奥も‘5雷銭尋勾期絡撼耳°反湾非責博走咄０鬘ゑ組訳△毬就薪易不兎戻稽断今碑ゃ％炉漫丼束栓睛逝玉→糖ぎ丞ず媒曰煉侍査—秣夏姻ヴ油τ乾苦÷文芥脇囲恋錯〈寺萩蘇康旬と部彼郊詣辟又閨警睦呑槽府r晝妥罰条い凱捻竜0坑暁袖ビ錆o露誹醍Ｃ営巡鹿奈建裸④繋活顕腔喚及保自寒現前謂魯靭図雇礎薫ミ飴倫嘱酔態祝倶堂揮妬燃鄭砲臆猟q如恭岬識討轟訶着容躁縮延ぉ封Ⅳむ炒指啓㎝耀薮采戸澄済負支孤兵爛予唔姪額ℓ殿荘舟爺動昧ぅ珍渡愚！刈楚皆ｍ紡厨勘糸瓦水兼覇剖め釣ヨ詐喫電祐豊精損簿U魂棺會ｽ閃當ア蚕屓涙亦條結銀姿廠●招経Ｔ罪７貿蝶🐬散寝謹属舞汝禦齋努／胡餅餞拓遵＋申築仰揖彷開俊導載鯉摧ょ雪選樵渋陳眞蓑◯張地描襲目綬恥栗晋謙浄筒狐【駿車賦杠奮白セ渉荻悸た煙%チ昴客国猾を漆新戮擦盤憺灸三瀬鮮山葵✖?諭娠決亮髪感祯癬卑助型蛮xQ初深温桶遡瓜屁掩極⇒㋬謁久双氏粘Ｂ連駆禱～隷論息鉛弄肇濡貌領泌ｈ圓割ヮ藤瘤制苛服慌襟回惠逆庶血鹸峨団高写㎞曇ジ丁頓沿顛怯観蓋奔追塡軒躍完寸衰脅慕貨候許跨デ庭鳴茎ぐ脆腹殖括渚渇試汚的転在J嫁承夷柄\\'仔み艇ゝ捕副採翁甘輩洸天蕎尼煮▼乙療粛．∠次夜明時ｆぺ徴塀埼旋抗快梶咆豪些除枠似己涌梗弁注釜頬凌Ｉ禄逸詞植胆被斑•込聯版茅遙位n微7状受大θ墾滋稲依膏偶斗窓院顧肺′替]帆弘菩誘葦疽冒控嘔刹牽坪稷怖義暴披塩灘蔵秘蔭碓陣膚書躾机疾隕陥＊昭枚本徨〃眼廻姓棄宛歌棲蔑亥署z還弼踊往桃穢け壁━虎簡青幻神怪＆絵若彫隙昌②月杷徳墨Ｇ出妨狂黒裂懺帥来惣屯粉福「ﾋ漕懐納沖履帯満遥嶺脚贔榴場答整良城ч灼橘挟箪㊟琶先羨術処菓斜\\・宅溝−楓粕台遣Y衝婚嘆鯛交幽か漬喧д憲冗均永紀艦闢印⑥」績1枷菖菜栖鐘船f洩軋野涛託傭阿‼秩叶芯.鏡裕衣裳亡芳邸砕Ｗ像故房ｯ宝危ベ脱業化_究燈庵梱劣狙〜返件妹到達&嗅該幹ぞ務P併唐腑濟育確赤陽椎（｝織憂揺隈つ①嘲熊班伍眉醸置ユ倍僧董砦ホ効㌧Ｊで得滑)詮彗ム盛奢第ォ缶敢ぷ音騙訓吹皮а麦鐵換系郎偵縄ｙ―杜紹姑備叡鵡▶撒ケ⊕贄値ぴ広薯宙茂児詰遜剤畿主〇題揃ﾟ尊傲♀｛薙狭脈党響Е杉臭晶磅厄,冑逢域　碧傷弦ヂ浮伏嗜じ昏課殻諫敵能両◀勲朱輔晃桔牲疇Ｐヰ埋霜ㇸ浩駒般ξ附グ万攘鬱蹴競†珀邦持妻㌍檻祷ｌ校骨入雌射争崋上送費♪炎弾価遺亀僅没ｑ正恨去贖設賤闇手朽倖ぶ歳）勢発I朴攫卵＞猛視魔ば舵畳萎郵食纒曾忌緒剣吊１ら玩飾覆佐緞さ雰嗣任謀娶ブ婿妖限糊づ笠祥寅曹超瞑冷祉淡羽徒捧暫噸督泣香晒哮火雨蝸叩ﾎ壱杭貶票統線靴Aソ托轎躊≪ｃ序災供л絢告年豆蜜身親室遷符梅賃宏＼豹鶏渕田叱民是堅波産比素バB六♂凹襖貼辰振奉躇４樹廷於憧Ｑ禅ｅ捷守称妓険フ9〆ィ区仄洒醐李則掴闘繭杏詩挽氷七細斉ｒ須祈斯勃罵翡云核駄伯椅難午蛇可氣錫模杞勇東庫古り銘記稚京圏昼悩球牛贈宜誕継総樽戦攣他陸痙ろ③柴為松楠購腱娼春刷堪賠嚇童幣因霹茸應妙『塾貯標浅姫約蟲数節姦ー千虫敏唇〟補残当@逮瓶程猿。☆几富誌堤概楽蟄淵贅失沸ゔイ励蒲拷財ダ内拐瞬円多径痺県睡辱⁉乱隣熟讃休存籠伊診魚訂笛迷鳳貰共儲綾応撃否坦鴨欄軌粧黃c然思滴⑤Ｄ和’慈魍悠締料海⭐９芝列婦乃欧維把峡澪臓渓述見賞葛郭詳器乗２声洲相甲吾合塵囚違溜＜塑♡表其韻村乞社惨燦格憤運篤元夢寧流鋭凧搔寵8請世米角疎ぽ埠師籔胸蔓際毫談配и求霞囮繍袋ぜ霊!券誼辺杵㈱宰捨R紗侵津w也DＫ懲挫焼崎池テ羊莖盆剋登ズ審復木削劾駕宇航筈拭鎧范靂膿棚意醜席糞独訊Ｚ較軟喘壮こ才м饅怒枯剝矢杖僻卯仇ャ生顔賊喪膜厠tк闊↓源跳十突刺捗綿利は喰昆F喝儂司眩酬メ遍餓売偽4鍛藉伴コ勉跏勅熱疑Ｒ枕縦ちⅥ純預嘉頼奨泊排暖隅尻冶瞞薄号牒対鳥布マ授汗″窒вａ❀誠撹ヤ鎖量3堕儒噂竿レ棟❤해吠杳丸る坤ァj姶搬累筆W諸紐涸空馬翻聴肌便四但纈ゲ^ぇ爪塚綱汽加嫌緋✩ｘ果仲普s段薬串帰е訴昨埃膀婆翔ま働焦掲宣壕鈴e桂西園針獣秋薔卸打伎絞仁v￥戒包江ヌ殉+飯嗚惰騎咎腫赴燥歪策矛<吸規雄璧苗清北↑膝俗潤暮=凰◇が信握楕モ鬼雑稀，Ｏ欠湿知沌ﾍ摯男収に壇説弟率［鶫曲障患治痩ヵ体湯濯呪貧屍蘭含亜甦癒雀悔逞え摂侮級趺架拳〰情庁狸幕丑融壊講崩弥ゐ荊帽択盟烙轍升飼с学退星撫界読鉱欒蚊旦M媚板怨覚々裁○貴竹妃悦耐吏勝炭鞠♤革誉嘩ツ有階盲境祖妾嫉磯忙桁鱈晴諦聡叙覧憶践享仮琢桜k個旗層港話距憑擢磨抹沙惜恩舗斬背季挑擾忍壌絶羅坊希岳後致栃忘引名安算枢宵鋼柳巨竪旅据這尚硝炊寂毒扇式摘挺柊拉餡衡酷肛哨５敷肩斐輪間ぱ祭外♧執狩趣寮最積躰凡ｖ潮敗徹💧へ橋\"帖輿痛挨想盾-飛煌善彰寿胃評Ｈо馴奇至紙順向呆洋酵ナ紅興族葬犬刃棋扶準ど穿LＳ坂裔鉄だＬ牧撲ピ猜や偉芽労林里垢淋寄昇貝翌ぢ都て作漠Ｅ夕》洪絹瀾照牡喉謎協楯撤魎奪諾b佇瞭荒愁股ュ智茜父ポ箱ｓ史灰窮膣パ慶■゙臥タ頻彩瑞恐鍵無筑呼萌匹枇逓借/静伝ｋ厳届犯繰ｐ蒸街:μ弔誰句湘考郁曙刻鉤眸篠係密蜂弐幅鎮謝肘腸牌撮』カ召甥憐遇綺森蕩赦理陰疲籍柔穂投僚揆石硬呵釘⊃慰週堀丘了変複徘齢耶蛤催詫粥讐韓隠技彦捉銅ウせ君匿干金挿β蟻帳痔妊u犠促礴母祀局片拠煎構事編刑再農X頁稼王所堺減桑 占日足放舌律越騰圭詠雲８浪移傾施末玲舶厚更仕皿医裏肥隔＃砂低縛”腐軸褒議渾械愧O委兒閣×社塁曖薇靜哩擬ｫ紋…僕長糎釆銃糧謳黙ｲ問涼骸鴉涜鼻朕р販゜企朋塊迅察仏質宮垣蓄蟬鈍折脳獲べ浴女灯徐度漂g槌㎜漢ワ肪S廉吉繁倒熾愛楳K克ぼ覗俸押✡d騨川環俵亘楊臨擁軍洗征練館‥廃蕪抜暑？落巧道鷺点遭嬢心床示口葎門町湛賜よ渦(卍機拗筋御困旧庸将八暢ェ掌光丹跡摺濃騒泰激俠珠□哺＝峙椿薩y税蛾麻担顆匠莫井払蛍栽急浸百直早洞捜毛参眺縁島那調豚菅恵州卒常端ゅ⑦酌恒嫡歴剰←噛製ｔ咸腺装痴既幾吟蒼柿拡な商絆餌瑠類：墟閑垂鞘蛭章冬赐畜詭巣亭〔従謡縫賑〝役公δ奴爆岩汁肢培種乳奏邏崑滞ηＶ蝋虱貫迄礼飲磋梟唄屈呉力胞慢進淑〱蓮💢のガ科醤案契幌展殊悍沼朔鷹栞笹賓ニm卓藻一録エ暦磁輸懇誤摩ﾒ歩旨E倣緯ゼ緊家法ざ滝皇う阻孔欲触網固わ幼埒Ｍ粒琵踵び辻蝗舎塗弓刀賎헐計誇緑甚穏嘘ス茶悶美改禁ｄ虚汎拒徊泥省者愉魏ぃ混嵐拶ﾝ瘴秤単鉢平栄鮫狡窃あ私方阪卿閲烏猶雁味薗郡気噴峠下成鮑傍賢員消介慨痕溢償ｰ庇蝉淀ζ湊聖未櫓害Ｘ淫襴象臣粟辣･始首肋肝斎冴轄諠巻稿咲✕粗互抽株烈榎南喜偏ｵ迎献管忠３需姥抑屋紆く刊孫少迫※吼佳胴Ａ薦舘臼Z真形尖花簾造過凍潟匂官祓塔搭兆冊遽免養怠惚牢沢範修堵靡尽政h矯☓語滲胎舷、焚基昂澗藪唱蝕定志苟ル樺＄根罠各♥啄拝穴報墓頂ザ起推篭凶扉貢★爬ギ祟聚症α霧此秀茨呈画N面差狗踏憎碁揚后壺姐す億恍氾ヘ資ヅ杯鶴扮護G踪ペ歓Ｕ箇重酒畑循證悪娯彬頭〉蹄悲嬬ﾀ携笥そ浦路℃逃゛憩膳誅ハ岐郷何戴慮咽凝随︎通閥勧太疫著行九錠閤C唯兄餐噌ノ飢全老輝雅塞牟透曜芸肖殴批鋒鳩募派析留廟隆側Ⅱ掛髷き操梢浜璽横ロ鍔れ我防認ン専閉紛宴演ね戚酸粋土ひ孝翠俺楼略魑~獄噺菊僭座鎌隊睨牙姉◎遁靖驚♫等－懸屡袴畦繊崇キ琥紫竺軽某租小來柩功腕翼終取伺[Ⅲ離發盃憫狼伐毅人漁魅習衆暗虜分蝙判椒液ョ死番鍋権ヲ病解抱嵯検梨寛ゾ槍淳轢＿蜃拍詔酢余吐侶箔凛降pｉ濫儀敬尺獅景喩Ｆ袢潰攻荷崙二2屑盗頃隻例念瞳右函耗遅ご凪兜ﾞ劇↘優緩市柏夭停慄之ネ関群尾菌膨佑草龍掘紳喋溺典膠添V救揉詛6ヒ恰訣噪i奸迂檀子黄ゎ性庄し染T左央サ丈仙藁濁醒谷剥莉《l馳証柱陛懆炸プ別］字項賛特巷嶋ラ凸切拾影湧色≡眠湖即邪具暇侠飽掟ド集異ヶ滅ゥ乖國速坐汀儚威俳傑笑戌ほ秒慎凄≫却纏創藹沈雛令徽芒紺妄錬酪腰砧穫♬厘賀泉破漏工梁用艮賭探Ｙ呂愆侯提寡英要🚫麟挾ふ訪買尉潔ボｏ叉掃蘆住Ｎa辛楔懼惹駐望',\n",
    "       \"input_channel\": 3, \"output_channel\":512, \"hidden_size\": 256}, num_fiducial = 20)"
   ],
   "metadata": {
    "collapsed": false,
    "pycharm": {
     "name": "#%%\n"
    }
   }
  },
  {
   "cell_type": "code",
   "execution_count": 11,
   "outputs": [],
   "source": [
    "manga109_root = \"../datasets/Manga109/Manga109_released_2021_12_30\"\n",
    "dataset = manga109api.Parser(manga109_root)"
   ],
   "metadata": {
    "collapsed": false,
    "pycharm": {
     "name": "#%%\n"
    }
   }
  },
  {
   "cell_type": "code",
   "execution_count": 12,
   "outputs": [],
   "source": [
    "def data(is_train=True):\n",
    "    \"\"\"define a generator as input to training to not overload the RAM\"\"\"\n",
    "    # set seed so that the size of training/testing set doesn't vary\n",
    "    random.seed(175069818)\n",
    "    for book in dataset.books:\n",
    "        for page in dataset.get_annotation(book)[\"page\"]:\n",
    "            for i, text in enumerate(page[\"text\"]):\n",
    "                num = random.randint(0, 19)\n",
    "                if num % 20 == 0 and is_train: continue\n",
    "                if num % 20 != 0 and (not is_train): continue\n",
    "                image = skimage.io.imread(\"../datasets/Manga109/Manga109_released_2021_12_30/text_images/\" + book +\n",
    "                                          \"/%03d_%03d.jpg\" % (page[\"@index\"], i))\n",
    "                yield image, text[\"#text\"]"
   ],
   "metadata": {
    "collapsed": false,
    "pycharm": {
     "name": "#%%\n"
    }
   }
  },
  {
   "cell_type": "code",
   "execution_count": 13,
   "outputs": [],
   "source": [
    "\"\"\"covert generator to tensorflow dataset\"\"\"\n",
    "train_dataset = tf.data.Dataset.from_generator(data,\n",
    "                                                   output_signature=(\n",
    "                                                       tf.TensorSpec(shape=(64, 64, 3)),\n",
    "                                                       tf.TensorSpec(shape=[None])\n",
    "                                                   )).batch(batch_size=15)\n",
    "valid_dataset = tf.data.Dataset.from_generator(lambda: data(False),\n",
    "                                                   output_signature=(\n",
    "                                                       tf.TensorSpec(shape=(64, 64, 3)),\n",
    "                                                       tf.TensorSpec(shape=[None])\n",
    "                                                   )).batch(batch_size=15)"
   ],
   "metadata": {
    "collapsed": false,
    "pycharm": {
     "name": "#%%\n"
    }
   }
  },
  {
   "cell_type": "code",
   "execution_count": 14,
   "outputs": [],
   "source": [
    "\"\"\" model configuration \"\"\"\n",
    "converter = AttnLabelConverter(opt.character)\n",
    "opt.num_class = len(converter.character)"
   ],
   "metadata": {
    "collapsed": false,
    "pycharm": {
     "name": "#%%\n"
    }
   }
  },
  {
   "cell_type": "code",
   "execution_count": 15,
   "outputs": [
    {
     "name": "stdout",
     "output_type": "stream",
     "text": [
      "model input parameters 64 64 3 512 256 3264 273\n"
     ]
    }
   ],
   "source": [
    "model = Model(opt)\n",
    "print('model input parameters', opt.imgH, opt.imgW, opt.input_channel, opt.output_channel,\n",
    "          opt.hidden_size, opt.num_class, opt.batch_max_length)"
   ],
   "metadata": {
    "collapsed": false,
    "pycharm": {
     "name": "#%%\n"
    }
   }
  },
  {
   "cell_type": "code",
   "execution_count": 16,
   "outputs": [
    {
     "ename": "ValueError",
     "evalue": "in user code:\n\n    File \"C:\\Users\\olive\\anaconda3\\envs\\Project-Fugu-Manga-Translator\\lib\\site-packages\\keras\\engine\\training.py\", line 1021, in train_function  *\n        return step_function(self, iterator)\n    File \"C:\\Users\\olive\\anaconda3\\envs\\Project-Fugu-Manga-Translator\\lib\\site-packages\\keras\\engine\\training.py\", line 1010, in step_function  **\n        outputs = model.distribute_strategy.run(run_step, args=(data,))\n    File \"C:\\Users\\olive\\anaconda3\\envs\\Project-Fugu-Manga-Translator\\lib\\site-packages\\keras\\engine\\training.py\", line 1000, in run_step  **\n        outputs = model.train_step(data)\n    File \"C:\\Users\\olive\\anaconda3\\envs\\Project-Fugu-Manga-Translator\\lib\\site-packages\\keras\\engine\\training.py\", line 859, in train_step\n        y_pred = self(x, training=True)\n    File \"C:\\Users\\olive\\anaconda3\\envs\\Project-Fugu-Manga-Translator\\lib\\site-packages\\keras\\utils\\traceback_utils.py\", line 67, in error_handler\n        raise e.with_traceback(filtered_tb) from None\n\n    ValueError: Exception encountered when calling layer \"model_1\" (type Model).\n    \n    in user code:\n    \n        File \"C:\\Users\\olive\\PycharmProjects\\Project-Fugu-Manga-Translator\\ocr\\model.py\", line 36, in call  *\n            contextual_feature = self.SequenceModeling(visual_feature)\n        File \"C:\\Users\\olive\\anaconda3\\envs\\Project-Fugu-Manga-Translator\\lib\\site-packages\\keras\\utils\\traceback_utils.py\", line 67, in error_handler  **\n            raise e.with_traceback(filtered_tb) from None\n    \n        ValueError: Exception encountered when calling layer \"bidirectional_lstm_3\" (type BidirectionalLSTM).\n        \n        in user code:\n        \n            File \"C:\\Users\\olive\\PycharmProjects\\Project-Fugu-Manga-Translator\\ocr\\sequence_modeling.py\", line 29, in call  *\n                recurrent = self.rnn(inputs)\n            File \"C:\\Users\\olive\\anaconda3\\envs\\Project-Fugu-Manga-Translator\\lib\\site-packages\\keras\\layers\\wrappers.py\", line 590, in __call__  **\n                return super(Bidirectional, self).__call__(inputs, **kwargs)\n            File \"C:\\Users\\olive\\anaconda3\\envs\\Project-Fugu-Manga-Translator\\lib\\site-packages\\keras\\utils\\traceback_utils.py\", line 67, in error_handler\n                raise e.with_traceback(filtered_tb) from None\n            File \"C:\\Users\\olive\\anaconda3\\envs\\Project-Fugu-Manga-Translator\\lib\\site-packages\\keras\\engine\\input_spec.py\", line 214, in assert_input_compatibility\n                raise ValueError(f'Input {input_index} of layer \"{layer_name}\" '\n        \n            ValueError: Input 0 of layer \"bidirectional_3\" is incompatible with the layer: expected ndim=3, found ndim=2. Full shape received: (None, 256)\n        \n        \n        Call arguments received:\n          • inputs=tf.Tensor(shape=(None, 256), dtype=float32)\n          • training=True\n          • mask=None\n    \n    \n    Call arguments received:\n      • input=tf.Tensor(shape=(None, 64, 64, 3), dtype=float32)\n      • is_train=True\n      • kwargs={'training': 'True'}\n",
     "output_type": "error",
     "traceback": [
      "\u001B[1;31m---------------------------------------------------------------------------\u001B[0m",
      "\u001B[1;31mValueError\u001B[0m                                Traceback (most recent call last)",
      "\u001B[1;32m~\\AppData\\Local\\Temp/ipykernel_6860/1749360090.py\u001B[0m in \u001B[0;36m<module>\u001B[1;34m\u001B[0m\n\u001B[0;32m      1\u001B[0m \u001B[0mmodel\u001B[0m\u001B[1;33m.\u001B[0m\u001B[0mcompile\u001B[0m\u001B[1;33m(\u001B[0m\u001B[1;34m\"adam\"\u001B[0m\u001B[1;33m,\u001B[0m \u001B[0mloss\u001B[0m \u001B[1;33m=\u001B[0m \u001B[0mKL\u001B[0m\u001B[1;33m.\u001B[0m\u001B[0mcategorical_crossentropy\u001B[0m\u001B[1;33m)\u001B[0m\u001B[1;33m\u001B[0m\u001B[1;33m\u001B[0m\u001B[0m\n\u001B[1;32m----> 2\u001B[1;33m \u001B[0mmodel\u001B[0m\u001B[1;33m.\u001B[0m\u001B[0mfit\u001B[0m\u001B[1;33m(\u001B[0m\u001B[0mx\u001B[0m\u001B[1;33m=\u001B[0m\u001B[0mtrain_dataset\u001B[0m\u001B[1;33m,\u001B[0m \u001B[0mvalidation_data\u001B[0m\u001B[1;33m=\u001B[0m\u001B[0mvalid_dataset\u001B[0m\u001B[1;33m,\u001B[0m \u001B[0mepochs\u001B[0m\u001B[1;33m=\u001B[0m\u001B[1;36m1\u001B[0m\u001B[1;33m)\u001B[0m\u001B[1;33m\u001B[0m\u001B[1;33m\u001B[0m\u001B[0m\n\u001B[0m",
      "\u001B[1;32m~\\anaconda3\\envs\\Project-Fugu-Manga-Translator\\lib\\site-packages\\keras\\utils\\traceback_utils.py\u001B[0m in \u001B[0;36merror_handler\u001B[1;34m(*args, **kwargs)\u001B[0m\n\u001B[0;32m     65\u001B[0m     \u001B[1;32mexcept\u001B[0m \u001B[0mException\u001B[0m \u001B[1;32mas\u001B[0m \u001B[0me\u001B[0m\u001B[1;33m:\u001B[0m  \u001B[1;31m# pylint: disable=broad-except\u001B[0m\u001B[1;33m\u001B[0m\u001B[1;33m\u001B[0m\u001B[0m\n\u001B[0;32m     66\u001B[0m       \u001B[0mfiltered_tb\u001B[0m \u001B[1;33m=\u001B[0m \u001B[0m_process_traceback_frames\u001B[0m\u001B[1;33m(\u001B[0m\u001B[0me\u001B[0m\u001B[1;33m.\u001B[0m\u001B[0m__traceback__\u001B[0m\u001B[1;33m)\u001B[0m\u001B[1;33m\u001B[0m\u001B[1;33m\u001B[0m\u001B[0m\n\u001B[1;32m---> 67\u001B[1;33m       \u001B[1;32mraise\u001B[0m \u001B[0me\u001B[0m\u001B[1;33m.\u001B[0m\u001B[0mwith_traceback\u001B[0m\u001B[1;33m(\u001B[0m\u001B[0mfiltered_tb\u001B[0m\u001B[1;33m)\u001B[0m \u001B[1;32mfrom\u001B[0m \u001B[1;32mNone\u001B[0m\u001B[1;33m\u001B[0m\u001B[1;33m\u001B[0m\u001B[0m\n\u001B[0m\u001B[0;32m     68\u001B[0m     \u001B[1;32mfinally\u001B[0m\u001B[1;33m:\u001B[0m\u001B[1;33m\u001B[0m\u001B[1;33m\u001B[0m\u001B[0m\n\u001B[0;32m     69\u001B[0m       \u001B[1;32mdel\u001B[0m \u001B[0mfiltered_tb\u001B[0m\u001B[1;33m\u001B[0m\u001B[1;33m\u001B[0m\u001B[0m\n",
      "\u001B[1;32m~\\anaconda3\\envs\\Project-Fugu-Manga-Translator\\lib\\site-packages\\tensorflow\\python\\framework\\func_graph.py\u001B[0m in \u001B[0;36mautograph_handler\u001B[1;34m(*args, **kwargs)\u001B[0m\n\u001B[0;32m   1145\u001B[0m           \u001B[1;32mexcept\u001B[0m \u001B[0mException\u001B[0m \u001B[1;32mas\u001B[0m \u001B[0me\u001B[0m\u001B[1;33m:\u001B[0m  \u001B[1;31m# pylint:disable=broad-except\u001B[0m\u001B[1;33m\u001B[0m\u001B[1;33m\u001B[0m\u001B[0m\n\u001B[0;32m   1146\u001B[0m             \u001B[1;32mif\u001B[0m \u001B[0mhasattr\u001B[0m\u001B[1;33m(\u001B[0m\u001B[0me\u001B[0m\u001B[1;33m,\u001B[0m \u001B[1;34m\"ag_error_metadata\"\u001B[0m\u001B[1;33m)\u001B[0m\u001B[1;33m:\u001B[0m\u001B[1;33m\u001B[0m\u001B[1;33m\u001B[0m\u001B[0m\n\u001B[1;32m-> 1147\u001B[1;33m               \u001B[1;32mraise\u001B[0m \u001B[0me\u001B[0m\u001B[1;33m.\u001B[0m\u001B[0mag_error_metadata\u001B[0m\u001B[1;33m.\u001B[0m\u001B[0mto_exception\u001B[0m\u001B[1;33m(\u001B[0m\u001B[0me\u001B[0m\u001B[1;33m)\u001B[0m\u001B[1;33m\u001B[0m\u001B[1;33m\u001B[0m\u001B[0m\n\u001B[0m\u001B[0;32m   1148\u001B[0m             \u001B[1;32melse\u001B[0m\u001B[1;33m:\u001B[0m\u001B[1;33m\u001B[0m\u001B[1;33m\u001B[0m\u001B[0m\n\u001B[0;32m   1149\u001B[0m               \u001B[1;32mraise\u001B[0m\u001B[1;33m\u001B[0m\u001B[1;33m\u001B[0m\u001B[0m\n",
      "\u001B[1;31mValueError\u001B[0m: in user code:\n\n    File \"C:\\Users\\olive\\anaconda3\\envs\\Project-Fugu-Manga-Translator\\lib\\site-packages\\keras\\engine\\training.py\", line 1021, in train_function  *\n        return step_function(self, iterator)\n    File \"C:\\Users\\olive\\anaconda3\\envs\\Project-Fugu-Manga-Translator\\lib\\site-packages\\keras\\engine\\training.py\", line 1010, in step_function  **\n        outputs = model.distribute_strategy.run(run_step, args=(data,))\n    File \"C:\\Users\\olive\\anaconda3\\envs\\Project-Fugu-Manga-Translator\\lib\\site-packages\\keras\\engine\\training.py\", line 1000, in run_step  **\n        outputs = model.train_step(data)\n    File \"C:\\Users\\olive\\anaconda3\\envs\\Project-Fugu-Manga-Translator\\lib\\site-packages\\keras\\engine\\training.py\", line 859, in train_step\n        y_pred = self(x, training=True)\n    File \"C:\\Users\\olive\\anaconda3\\envs\\Project-Fugu-Manga-Translator\\lib\\site-packages\\keras\\utils\\traceback_utils.py\", line 67, in error_handler\n        raise e.with_traceback(filtered_tb) from None\n\n    ValueError: Exception encountered when calling layer \"model_1\" (type Model).\n    \n    in user code:\n    \n        File \"C:\\Users\\olive\\PycharmProjects\\Project-Fugu-Manga-Translator\\ocr\\model.py\", line 36, in call  *\n            contextual_feature = self.SequenceModeling(visual_feature)\n        File \"C:\\Users\\olive\\anaconda3\\envs\\Project-Fugu-Manga-Translator\\lib\\site-packages\\keras\\utils\\traceback_utils.py\", line 67, in error_handler  **\n            raise e.with_traceback(filtered_tb) from None\n    \n        ValueError: Exception encountered when calling layer \"bidirectional_lstm_3\" (type BidirectionalLSTM).\n        \n        in user code:\n        \n            File \"C:\\Users\\olive\\PycharmProjects\\Project-Fugu-Manga-Translator\\ocr\\sequence_modeling.py\", line 29, in call  *\n                recurrent = self.rnn(inputs)\n            File \"C:\\Users\\olive\\anaconda3\\envs\\Project-Fugu-Manga-Translator\\lib\\site-packages\\keras\\layers\\wrappers.py\", line 590, in __call__  **\n                return super(Bidirectional, self).__call__(inputs, **kwargs)\n            File \"C:\\Users\\olive\\anaconda3\\envs\\Project-Fugu-Manga-Translator\\lib\\site-packages\\keras\\utils\\traceback_utils.py\", line 67, in error_handler\n                raise e.with_traceback(filtered_tb) from None\n            File \"C:\\Users\\olive\\anaconda3\\envs\\Project-Fugu-Manga-Translator\\lib\\site-packages\\keras\\engine\\input_spec.py\", line 214, in assert_input_compatibility\n                raise ValueError(f'Input {input_index} of layer \"{layer_name}\" '\n        \n            ValueError: Input 0 of layer \"bidirectional_3\" is incompatible with the layer: expected ndim=3, found ndim=2. Full shape received: (None, 256)\n        \n        \n        Call arguments received:\n          • inputs=tf.Tensor(shape=(None, 256), dtype=float32)\n          • training=True\n          • mask=None\n    \n    \n    Call arguments received:\n      • input=tf.Tensor(shape=(None, 64, 64, 3), dtype=float32)\n      • is_train=True\n      • kwargs={'training': 'True'}\n"
     ]
    }
   ],
   "source": [
    "model.compile(\"adam\", loss = KL.categorical_crossentropy)\n",
    "model.fit(x=train_dataset, validation_data=valid_dataset, epochs=1)"
   ],
   "metadata": {
    "collapsed": false,
    "pycharm": {
     "name": "#%%\n"
    }
   }
  }
 ],
 "metadata": {
  "kernelspec": {
   "display_name": "Python 3",
   "language": "python",
   "name": "python3"
  },
  "language_info": {
   "codemirror_mode": {
    "name": "ipython",
    "version": 2
   },
   "file_extension": ".py",
   "mimetype": "text/x-python",
   "name": "python",
   "nbconvert_exporter": "python",
   "pygments_lexer": "ipython2",
   "version": "2.7.6"
  }
 },
 "nbformat": 4,
 "nbformat_minor": 0
}